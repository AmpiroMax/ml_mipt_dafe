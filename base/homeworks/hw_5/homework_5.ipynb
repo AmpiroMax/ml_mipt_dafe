{
 "cells": [
  {
   "cell_type": "markdown",
   "id": "d57f64ef-ec87-48fa-a375-3bcb54efe6c1",
   "metadata": {},
   "source": [
    "# Домашнее задание № 5 \n",
    "\n",
    "В данном задании требуется реализовать некоторые из метрик, рассмотренные на лекции.\n",
    "\n",
    "Все функции, кроме ```compute_gain```, в качестве первых двух аргументов принимают на вход тензоры ```ys_true``` и ```ys_pred```. Это вещественные тензоры ```pytorch``` размерности ```n```, задающие целевые отметки релевантности и предсказанные значения соответственно. \n",
    "\n",
    "Для генерации примеров входных данных можете использовать ```torch.rand(n)```, если не указана специфика исходных тензоров. \n",
    "\n",
    "Считается, что ```ys_pred``` содержит уникальные значения без повторений."
   ]
  },
  {
   "cell_type": "code",
   "execution_count": 2,
   "id": "0c5c4dd4-0800-4300-ab75-3805849aa2bf",
   "metadata": {},
   "outputs": [],
   "source": [
    "import math\n",
    "from math import log2\n",
    "\n",
    "import torch\n",
    "from torch import Tensor, sort"
   ]
  },
  {
   "cell_type": "markdown",
   "id": "ea213a4c-1267-4eca-8b05-85dd70b3252a",
   "metadata": {},
   "source": [
    "## Swapped Pairs\n",
    "\n",
    "```num_swapped_pairs``` — функция для расчёта количества неправильно упорядоченных пар (корректное упорядочивание — от наибольшего значения в ```ys_true``` к наименьшему) или переставленных пар."
   ]
  },
  {
   "cell_type": "code",
   "execution_count": 2,
   "id": "49a46327-438f-401a-8f0e-685ef1546b3f",
   "metadata": {},
   "outputs": [],
   "source": [
    "def num_swapped_pairs(ys_true: Tensor, ys_pred: Tensor) -> int:\n",
    "    idxs = torch.argsort(ys_pred, descending=True)\n",
    "    true_sorted = ys_true[idxs]\n",
    "    \n",
    "    count = 0\n",
    "    for i in range(len(ys_true)):\n",
    "        count += torch.sum(true_sorted[i:] > true_sorted[i])\n",
    "    \n",
    "    return int(count)"
   ]
  },
  {
   "cell_type": "code",
   "execution_count": 3,
   "id": "46c44324-779e-4169-855b-c9837d795bc3",
   "metadata": {},
   "outputs": [
    {
     "name": "stdout",
     "output_type": "stream",
     "text": [
      "7\n"
     ]
    }
   ],
   "source": [
    "# не изменять\n",
    "ys_true = torch.tensor([2, 1, 0, 1, 2])\n",
    "ys_pred = torch.tensor([0.1, 0.3, 0.2, 0.13, 0.12])\n",
    "\n",
    "res = num_swapped_pairs(ys_true, ys_pred)\n",
    "print(res)  # 7"
   ]
  },
  {
   "cell_type": "markdown",
   "id": "18301841-0e23-4c44-9707-5b219301fc07",
   "metadata": {
    "tags": []
   },
   "source": [
    "## Gain\n",
    "\n",
    "```compute_gain``` — вспомогательная функция для расчёта DCG и NDCG, рассчитывающая показатель Gain. Принимает на вход дополнительный аргумент — указание схемы начисления Gain (```gain_scheme```).\n",
    "\n",
    "Необходимо реализовать метод при:\n",
    "- ```gain_scheme=\"const\"``` - постоянное начисление Gain\n",
    "- ```gain_scheme=\"exp2\"``` - рассчитываемый по формуле $(2^r −1)$, где $r$ — реальная релевантность документа некоторому запросу."
   ]
  },
  {
   "cell_type": "code",
   "execution_count": 5,
   "id": "58d75368-7c81-4381-9ed0-81c334250248",
   "metadata": {},
   "outputs": [],
   "source": [
    "def compute_gain(y_value: float, gain_scheme: str) -> float:\n",
    "    if gain_scheme == 'const':\n",
    "        return float(y_value)\n",
    "\n",
    "    elif gain_scheme == 'exp2':\n",
    "        return float(2 ** y_value - 1)\n",
    "    \n",
    "    return float(\"inf\")"
   ]
  },
  {
   "cell_type": "code",
   "execution_count": 6,
   "id": "728c97b8-5867-4c48-ae4e-77cf27acc524",
   "metadata": {},
   "outputs": [
    {
     "name": "stdout",
     "output_type": "stream",
     "text": [
      "31.0\n",
      "5.0\n"
     ]
    }
   ],
   "source": [
    "# не изменять\n",
    "value = 5\n",
    "\n",
    "res = compute_gain(value, 'exp2')\n",
    "print(res)  # 31\n",
    "\n",
    "res = compute_gain(value, 'const')\n",
    "print(res)  # 5"
   ]
  },
  {
   "cell_type": "markdown",
   "id": "292bff33-4df7-42f7-81f5-c20da6d59e15",
   "metadata": {},
   "source": [
    "## DCG\n",
    "\n",
    "```dcg``` и ```ndcg``` — функции расчёта DCG и NDCG. Принимают на вход дополнительный параметр ```gain_scheme```, аналогичный таковому в функции ```compute_gain```."
   ]
  },
  {
   "cell_type": "code",
   "execution_count": 21,
   "id": "df8b12ea-1198-4f67-8622-16db0d6471b2",
   "metadata": {},
   "outputs": [],
   "source": [
    "def dcg(ys_true: Tensor, ys_pred: Tensor, gain_scheme: str, top_k: int = 0) -> float:\n",
    "    idx = torch.argsort(ys_pred, descending=True)\n",
    "    true_sorted = ys_true[idx].to(torch.float64)[:top_k]\n",
    "    \n",
    "    steps = torch.arange(2, top_k + 2, dtype=torch.float64)\n",
    "    steps = torch.log2(steps)\n",
    "\n",
    "    gains = true_sorted.apply_(lambda x: compute_gain(x, gain_scheme))\n",
    "    return float(torch.sum(gains / steps))\n",
    "    \n",
    "\n",
    "def ndcg(ys_true: Tensor, ys_pred: Tensor, gain_scheme: str = 'const', top_k: int = 0) -> float:\n",
    "    dcg_score = dcg(ys_true, ys_pred, gain_scheme, top_k)\n",
    "    ideal_dcg = dcg(ys_true, ys_true, gain_scheme, top_k)\n",
    "\n",
    "    return float(dcg_score / ideal_dcg)"
   ]
  },
  {
   "cell_type": "code",
   "execution_count": 22,
   "id": "c0d7fc2e",
   "metadata": {},
   "outputs": [
    {
     "name": "stdout",
     "output_type": "stream",
     "text": [
      "tensor([2., 2., 2., 2., 2.], dtype=torch.float64)\n",
      "tensor([1.0000, 1.5850, 2.0000, 2.3219, 2.5850], dtype=torch.float64)\n",
      "tensor([2., 2., 2., 2., 2.], dtype=torch.float64)\n",
      "tensor([3., 3., 2., 2., 2.], dtype=torch.float64)\n",
      "tensor([1.0000, 1.5850, 2.0000, 2.3219, 2.5850], dtype=torch.float64)\n",
      "tensor([3., 3., 2., 2., 2.], dtype=torch.float64)\n"
     ]
    },
    {
     "name": "stderr",
     "output_type": "stream",
     "text": [
      "c:\\Max\\Proga\\GRISHIN_ML\\ml_mipt_dafe\\homeworks\\hw_6\\.venv\\lib\\site-packages\\ipykernel_launcher.py:2: UserWarning: To copy construct from a tensor, it is recommended to use sourceTensor.clone().detach() or sourceTensor.clone().detach().requires_grad_(True), rather than torch.tensor(sourceTensor).\n",
      "  \n"
     ]
    },
    {
     "data": {
      "text/plain": [
       "0.7833471457646615"
      ]
     },
     "execution_count": 22,
     "metadata": {},
     "output_type": "execute_result"
    }
   ],
   "source": [
    "pred = torch.tensor([1, 1, 3, 2, 2, 3, 2, 1, 2, 2, 2])\n",
    "true, _ = torch.tensor(pred).sort(descending=True)\n",
    "\n",
    "ndcg(true, pred, 'const', 5)"
   ]
  },
  {
   "cell_type": "code",
   "execution_count": 7,
   "id": "c3401465-66d5-4b44-ba8a-4d19eaf28597",
   "metadata": {},
   "outputs": [
    {
     "name": "stdout",
     "output_type": "stream",
     "text": [
      "12.052645801815459\n",
      "0.6004804162123549\n"
     ]
    }
   ],
   "source": [
    "# не изменять\n",
    "ys_true = torch.tensor([2, 2, 4, 1, 2, 0])\n",
    "ys_pred = torch.tensor([0.1, 0.3, 0.2, 0.14, 0.12, 0.6])\n",
    "\n",
    "res = dcg(ys_true, ys_pred, gain_scheme='exp2')\n",
    "res_n = ndcg(ys_true, ys_pred, gain_scheme='exp2')\n",
    "print(res)  # 12.052645801815459\n",
    "print(res_n)  # 0.6004804162123548"
   ]
  },
  {
   "cell_type": "markdown",
   "id": "cf284e46-d9b3-408d-8c8c-3b339a9719a3",
   "metadata": {},
   "source": [
    "## Precission@k\n",
    "\n",
    "\n",
    "```precission_at_k``` — функция расчёта точности в топ-k позиций для бинарной разметки (в ```ys_true``` содержатся только нули и единицы). Если среди лейблов нет ни одного релевантного документа (единицы), то необходимо вернуть -1. \n",
    "\n",
    "Функция принимает на вход параметр k, указывающий на то, по какому количеству объектов необходимо произвести расчёт метрики. Учтите, что k может быть больше количества элементов во входных тензорах."
   ]
  },
  {
   "cell_type": "code",
   "execution_count": 8,
   "id": "abd77452-11d2-4380-9861-ba8b2b1082cd",
   "metadata": {},
   "outputs": [],
   "source": [
    "def precission_at_k(ys_true: Tensor, ys_pred: Tensor, k: int) -> float:\n",
    "    if sum(ys_true)==0:\n",
    "        return -1\n",
    "    k = min(len(ys_pred), k)\n",
    "    sort_idxs = torch.argsort(ys_pred, descending=True)\n",
    "    pred_sorted = ys_true[sort_idxs]\n",
    "    true_positive = torch.sum(pred_sorted[:k] == 1)\n",
    "\n",
    "    return float(true_positive / k) if true_positive > 0 else -1"
   ]
  },
  {
   "cell_type": "code",
   "execution_count": 9,
   "id": "90d2a70d",
   "metadata": {},
   "outputs": [],
   "source": [
    "def recall_at_k(ys_true: Tensor, ys_pred: Tensor, k: int) -> float:\n",
    "    if (k<=0):\n",
    "        return float(0)\n",
    "    \n",
    "    k = min(len(ys_pred), k)\n",
    "    sort_idxs = torch.argsort(ys_pred, descending=True)\n",
    "    pred_sorted = ys_true[sort_idxs]\n",
    "    true_positive = torch.sum(pred_sorted[:k] == 1)\n",
    "\n",
    "    return float(true_positive / torch.sum(ys_true))"
   ]
  },
  {
   "cell_type": "code",
   "execution_count": 10,
   "id": "0aa3d174-3213-47fa-ac65-f1d20962028c",
   "metadata": {},
   "outputs": [
    {
     "name": "stdout",
     "output_type": "stream",
     "text": [
      "0.6666666865348816\n"
     ]
    }
   ],
   "source": [
    "# не изменять\n",
    "ys_true = torch.tensor([0, 0, 1, 1, 0, 1])\n",
    "ys_pred = torch.tensor([0.1, 0.3, 0.2, 0.14, 0.12, 0.6])\n",
    "\n",
    "res = precission_at_k(ys_true, ys_pred, k=3)\n",
    "print(res)  # 0.6666666865348816"
   ]
  },
  {
   "cell_type": "markdown",
   "id": "ec13e47a-1335-45d6-984b-a8fd54ca6bce",
   "metadata": {},
   "source": [
    "## Average Precision\n",
    "\n",
    "```average_precision``` — функция расчёта AP для бинарной разметки (в ```ys_true``` содержатся только нули и единицы). Если среди лейблов нет ни одного релевантного документа (единицы), то необходимо вернуть -1."
   ]
  },
  {
   "cell_type": "code",
   "execution_count": 11,
   "id": "ae660053-b93a-493d-901b-75f1ed67f51b",
   "metadata": {},
   "outputs": [],
   "source": [
    "def average_precision(ys_true: Tensor, ys_pred: Tensor) -> float:\n",
    "    if sum(ys_true)==0:\n",
    "        return -1\n",
    "    AP = 0\n",
    "    for k in range(1, len(ys_true)+1):\n",
    "        print(\"------------------------\")\n",
    "        print(f\"Recall {k=}:     \", recall_at_k(ys_true, ys_pred, k))\n",
    "        print(f\"Recall {k-1=}:   \", recall_at_k(ys_true, ys_pred, k-1))\n",
    "        print(f\"precission {k=}: \", precission_at_k(ys_true, ys_pred, k))\n",
    "        AP += (\n",
    "            recall_at_k(ys_true, ys_pred, k) - recall_at_k(ys_true, ys_pred, k-1)\n",
    "        ) * precission_at_k(ys_true, ys_pred, k)\n",
    "        print(f\"AP {k=}:         \", AP)\n",
    "    return float(AP)\n"
   ]
  },
  {
   "cell_type": "code",
   "execution_count": 12,
   "id": "af0a79b0-9120-4085-ba61-3501679864d0",
   "metadata": {},
   "outputs": [
    {
     "name": "stdout",
     "output_type": "stream",
     "text": [
      "------------------------\n",
      "Recall k=1:      0.25\n",
      "Recall k-1=0:    0.0\n",
      "precission k=1:  1.0\n",
      "AP k=1:          0.25\n",
      "------------------------\n",
      "Recall k=2:      0.25\n",
      "Recall k-1=1:    0.25\n",
      "precission k=2:  0.5\n",
      "AP k=2:          0.25\n",
      "------------------------\n",
      "Recall k=3:      0.5\n",
      "Recall k-1=2:    0.25\n",
      "precission k=3:  0.6666666865348816\n",
      "AP k=3:          0.4166666716337204\n",
      "------------------------\n",
      "Recall k=4:      0.75\n",
      "Recall k-1=3:    0.5\n",
      "precission k=4:  0.75\n",
      "AP k=4:          0.6041666716337204\n",
      "------------------------\n",
      "Recall k=5:      0.75\n",
      "Recall k-1=4:    0.75\n",
      "precission k=5:  0.6000000238418579\n",
      "AP k=5:          0.6041666716337204\n",
      "------------------------\n",
      "Recall k=6:      1.0\n",
      "Recall k-1=5:    0.75\n",
      "precission k=6:  0.6666666865348816\n",
      "AP k=6:          0.7708333432674408\n",
      "------------------------\n",
      "Recall k=7:      1.0\n",
      "Recall k-1=6:    1.0\n",
      "precission k=7:  0.5714285969734192\n",
      "AP k=7:          0.7708333432674408\n",
      "------------------------\n",
      "Recall k=8:      1.0\n",
      "Recall k-1=7:    1.0\n",
      "precission k=8:  0.5\n",
      "AP k=8:          0.7708333432674408\n",
      "0.7708333432674408\n"
     ]
    }
   ],
   "source": [
    "# не изменять\n",
    "ys_true = torch.tensor([1, 0, 1, 1, 0, 1, 0, 0])\n",
    "ys_pred = torch.tensor([0.9, 0.8, 0.7, 0.6, 0.4, 0.3, 0.2, 0.1])\n",
    "\n",
    "res = average_precision(ys_true, ys_pred)\n",
    "print(res)  # 0.7708333333333333"
   ]
  },
  {
   "cell_type": "markdown",
   "id": "667d41e0-b2a0-45d5-863c-6316808e304d",
   "metadata": {},
   "source": [
    "## reciprocal_rank\n",
    "\n",
    "```reciprocal_rank``` — функция для расчёта MRR (без усреднения). В ```ys_true``` могут содержаться только нули и максимум одна единица. "
   ]
  },
  {
   "cell_type": "code",
   "execution_count": 123,
   "id": "42f41e49-5a57-43d5-8a4e-05e29c3c63f9",
   "metadata": {},
   "outputs": [],
   "source": [
    "def reciprocal_rank(ys_true: Tensor, ys_pred: Tensor) -> float:\n",
    "    sort_idxs = torch.argsort(ys_pred, descending=True)\n",
    "    pred_sorted = ys_true[sort_idxs]\n",
    "    rank = torch.argmax(pred_sorted)\n",
    "    return float(1 / (rank+1))"
   ]
  },
  {
   "cell_type": "code",
   "execution_count": 124,
   "id": "0c246d7d-9ed2-41c7-aac3-9ac14534025f",
   "metadata": {},
   "outputs": [
    {
     "name": "stdout",
     "output_type": "stream",
     "text": [
      "0.25\n"
     ]
    }
   ],
   "source": [
    "# не изменять\n",
    "ys_true = torch.tensor([0, 0, 0, 1, 0, 0])\n",
    "ys_pred = torch.tensor([0.1, 0.3, 0.2, 0.14, 0.12, 0.6])\n",
    "\n",
    "res = reciprocal_rank(ys_true, ys_pred)\n",
    "print(res)  # 0.25"
   ]
  },
  {
   "cell_type": "markdown",
   "id": "3c9ed8d2-4131-4f9f-9445-4ea09a97e2f4",
   "metadata": {},
   "source": [
    "## p_found\n",
    "\n",
    "```p_found``` — функция расчёта P-found от Яндекса, принимающая на вход дополнительный параметр ```p_break``` — вероятность прекращения просмотра списка документов в выдаче. Базовая вероятность просмотреть первый документ в выдаче ($pLook[0]$) равняется единице. ```ys_true``` нормированы от 0 до 1 (вероятность удовлетворения запроса пользователя)."
   ]
  },
  {
   "cell_type": "code",
   "execution_count": 18,
   "id": "d413dfb6-f08b-454e-870a-561c1e5280dc",
   "metadata": {},
   "outputs": [],
   "source": [
    "def p_found(ys_true: Tensor, ys_pred: Tensor, p_break: float = 0.15 ) -> float:\n",
    "    pred_sorted, sorted_idxs = torch.sort(ys_pred, descending=False)\n",
    "    true_sorted = ys_true[sorted_idxs]\n",
    "    \n",
    "    p_look = [1]\n",
    "    for i in range(1, len(ys_true)):\n",
    "        p_look += [\n",
    "            p_look[i-1] * (1-true_sorted[i-1]) * (1-p_break)\n",
    "        ]\n",
    "    \n",
    "    p_found = 0.0\n",
    "    \n",
    "    for i in range(len(ys_true)):\n",
    "        p_found += p_look[i] * true_sorted[i]\n",
    "        print(p_found)\n",
    "    \n",
    "    return float(p_found)"
   ]
  },
  {
   "cell_type": "code",
   "execution_count": 19,
   "id": "d1278260-fdca-466a-a559-d0af5fc63029",
   "metadata": {},
   "outputs": [
    {
     "name": "stdout",
     "output_type": "stream",
     "text": [
      "tensor(0.)\n",
      "tensor(0.)\n",
      "tensor(0.7744)\n",
      "tensor(0.7744)\n",
      "tensor(0.7744)\n",
      "tensor(0.7744)\n",
      "0.774399995803833\n"
     ]
    }
   ],
   "source": [
    "# не изменять\n",
    "ys_true = torch.tensor([0, 0, 0, 1, 0, 1])\n",
    "ys_pred = torch.tensor([0.91, 0.72, 0.12, 0.24, 0.15, 0.6])\n",
    "\n",
    "res = p_found(ys_true, ys_pred, 0.12)\n",
    "print(res)  # 0.7744"
   ]
  },
  {
   "cell_type": "code",
   "execution_count": 37,
   "id": "ff13b89e",
   "metadata": {},
   "outputs": [],
   "source": []
  },
  {
   "cell_type": "code",
   "execution_count": null,
   "id": "663fa10f",
   "metadata": {},
   "outputs": [],
   "source": []
  }
 ],
 "metadata": {
  "kernelspec": {
   "display_name": ".venv",
   "language": "python",
   "name": "python3"
  },
  "language_info": {
   "codemirror_mode": {
    "name": "ipython",
    "version": 3
   },
   "file_extension": ".py",
   "mimetype": "text/x-python",
   "name": "python",
   "nbconvert_exporter": "python",
   "pygments_lexer": "ipython3",
   "version": "3.7.8"
  },
  "vscode": {
   "interpreter": {
    "hash": "dd0de9cdb1bfa7d919198e814192a776ef83b170c7cec3c0b0ee3a26968a996d"
   }
  }
 },
 "nbformat": 4,
 "nbformat_minor": 5
}
