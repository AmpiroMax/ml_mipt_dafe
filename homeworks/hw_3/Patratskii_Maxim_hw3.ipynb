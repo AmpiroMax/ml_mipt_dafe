{
 "cells": [
  {
   "cell_type": "markdown",
   "metadata": {
    "id": "mNQ-I1PUU-PH"
   },
   "source": [
    "# mini hw3 - ensembles"
   ]
  },
  {
   "cell_type": "markdown",
   "metadata": {
    "id": "0ENj9WzCU-SK"
   },
   "source": [
    "## Подготовка данных"
   ]
  },
  {
   "cell_type": "markdown",
   "metadata": {
    "id": "_MDgqWu9U-U-"
   },
   "source": [
    "Загрузите и предобработайте данные (по своему усмотрению) из hw1"
   ]
  },
  {
   "cell_type": "code",
   "execution_count": 216,
   "metadata": {},
   "outputs": [],
   "source": [
    "import numpy as np\n",
    "import pandas as pd\n",
    "from tqdm.notebook import tqdm\n",
    "import matplotlib.pyplot as plt\n",
    "\n",
    "from sklearn.pipeline import make_pipeline\n",
    "from sklearn.preprocessing import StandardScaler\n",
    "\n",
    "from sklearn.model_selection import StratifiedKFold, KFold\n",
    "from sklearn.model_selection import GridSearchCV\n",
    "from sklearn.model_selection import train_test_split\n",
    "\n",
    "from sklearn.metrics import mean_squared_error, accuracy_score\n",
    "\n",
    "from sklearn.svm import SVC, SVR\n",
    "from sklearn.ensemble import StackingClassifier\n",
    "from sklearn.neighbors import KNeighborsClassifier, KNeighborsRegressor\n",
    "from sklearn.linear_model import LinearRegression, LogisticRegression\n",
    "\n",
    "import warnings\n",
    "warnings.filterwarnings(action='ignore')"
   ]
  },
  {
   "cell_type": "code",
   "execution_count": 2,
   "metadata": {
    "id": "IbSGi7csVlYZ"
   },
   "outputs": [],
   "source": [
    "data = pd.read_csv('train_features_with_answers.csv')"
   ]
  },
  {
   "cell_type": "code",
   "execution_count": 3,
   "metadata": {},
   "outputs": [
    {
     "name": "stdout",
     "output_type": "stream",
     "text": [
      "school: ['MS' 'GP']\n",
      "sex: ['M' 'F' 'D' 'C' 'B' 'A']\n",
      "age: [ nan  15.  17.  20.  18.  16.  19. 161. 181. 151. 116.  21.  22.  -1.\n",
      "   1.   5.   8.]\n",
      "address: ['U' 'R' nan]\n",
      "famsize: ['LE3' 'GT3']\n",
      "Pstatus: ['T' 'A']\n",
      "Medu: [1 3 4 2 0]\n",
      "Fedu: [3 4 1 2 0]\n",
      "Mjob: ['at_home' 'teacher' 'other' 'services' 'health']\n",
      "Fjob: ['services' 'other' 'at_home' 'teacher' 'health']\n",
      "reason: ['course' 'home' 'reputation' 'other']\n",
      "guardian: ['mother' 'father' 'other']\n",
      "traveltime: [1 3 2 4]\n",
      "studytime: [1 2 3 4]\n",
      "failures: [0 1 2 3]\n",
      "schoolsup: ['no' 'yes']\n",
      "famsup: ['no' 'yes']\n",
      "paid: ['no' 'yes']\n",
      "activities: ['no' 'yes']\n",
      "nursery: ['yes' 'no']\n",
      "higher: ['no' 'yes']\n",
      "internet: ['yes' 'no']\n",
      "romantic: ['yes' 'no']\n",
      "famrel: [4 3 5 1 2]\n",
      "freetime: [3 5 2 1 4]\n",
      "goout: [3 4 1 5 2]\n",
      "Dalc: [2 3 1 5 4]\n",
      "Walc: [3 5 1 2 4]\n",
      "health: [3 5 2 1 4]\n",
      "absences: [ 0 16  4  8  2  1  9  6  5 11  3 10 12 14 18 15 24 22 32 21 13  7]\n",
      "G3: [ 9 12 13 11 14 16 10 17  8 15  0  6  7 19 18  1  5]\n"
     ]
    }
   ],
   "source": [
    "unique_vals = dict()\n",
    "for col in data:\n",
    "    unique_vals[col] = data[col].unique() \n",
    "    print(f\"{col}:\", unique_vals[col])"
   ]
  },
  {
   "cell_type": "code",
   "execution_count": 4,
   "metadata": {},
   "outputs": [],
   "source": [
    "data.loc[(data[\"age\"] < 15) | ( data[\"age\"] > 22), \"age\"] = np.nan\n",
    "data.loc[(data[\"sex\"] != \"M\") & (data[\"sex\"] != \"F\"), \"sex\"] = np.nan"
   ]
  },
  {
   "cell_type": "markdown",
   "metadata": {},
   "source": [
    "## Адаптивное заполнения пропусков "
   ]
  },
  {
   "cell_type": "markdown",
   "metadata": {},
   "source": [
    "### Categorical features encoding"
   ]
  },
  {
   "cell_type": "code",
   "execution_count": 5,
   "metadata": {},
   "outputs": [],
   "source": [
    "cat_columns = []\n",
    "for name in data.columns:\n",
    "    if name not in data._get_numeric_data().columns:\n",
    "        cat_columns += [name]\n",
    "\n",
    "for col in cat_columns:\n",
    "    data[col] = pd.factorize(data[col], na_sentinel=-1, sort=True)[0]\n",
    "\n",
    "data.loc[data[\"sex\"] == -1, \"sex\"] = np.nan\n",
    "data.loc[data[\"address\"] == -1, \"address\"] = np.nan"
   ]
  },
  {
   "cell_type": "markdown",
   "metadata": {},
   "source": [
    "### Разбиение данных"
   ]
  },
  {
   "cell_type": "code",
   "execution_count": 6,
   "metadata": {},
   "outputs": [],
   "source": [
    "data_without_na = data.dropna()\n",
    "X = data_without_na.drop([\"sex\", \"age\", \"address\", \"G3\"], axis=1)\n",
    "\n",
    "y = dict()\n",
    "y[\"sex\"] = data_without_na[\"sex\"]\n",
    "y[\"age\"]  = data_without_na[\"age\"]\n",
    "y[\"address\"]  = data_without_na[\"address\"]\n",
    "\n",
    "X_train_d = dict()\n",
    "y_train_d = dict()\n",
    "\n",
    "X_test_d = dict()\n",
    "y_test_d = dict()"
   ]
  },
  {
   "cell_type": "code",
   "execution_count": 7,
   "metadata": {},
   "outputs": [],
   "source": [
    "for col in [\"sex\", \"age\", \"address\"]:\n",
    "    X_train, X_test, y_train, y_test = train_test_split(X, y[col], test_size=0.33, random_state=42)\n",
    "    X_train_d[col] = X_train\n",
    "    X_test_d[col] = X_test\n",
    "    y_train_d[col] = y_train\n",
    "    y_test_d[col] = y_test"
   ]
  },
  {
   "cell_type": "code",
   "execution_count": 8,
   "metadata": {},
   "outputs": [],
   "source": [
    "data_prep = dict()\n",
    "data_prep[\"train\"] = [X_train_d, y_train_d]\n",
    "data_prep[\"test\"] =[X_test_d, y_test_d]"
   ]
  },
  {
   "cell_type": "code",
   "execution_count": 9,
   "metadata": {},
   "outputs": [
    {
     "name": "stdout",
     "output_type": "stream",
     "text": [
      "SEX 0.627\n",
      "AGE 0.209\n",
      "ADDRESS 0.672\n"
     ]
    }
   ],
   "source": [
    "classifiers = dict()\n",
    "\n",
    "for stage in [\"train\", \"test\"]:\n",
    "    if stage == \"train\":\n",
    "        for col in [\"sex\", \"age\", \"address\"]:\n",
    "            cls = SVC(kernel='linear', class_weight=\"balanced\") #LogisticRegression(max_iter = 1000)\n",
    "            cls.fit(data_prep[stage][0][col], data_prep[stage][1][col])\n",
    "            classifiers[col] = cls\n",
    "    else:\n",
    "        for col in [\"sex\", \"age\", \"address\"]:\n",
    "            cls = classifiers[col]\n",
    "            prediction = cls.predict(data_prep[stage][0][col])\n",
    "            score = accuracy_score(data_prep[stage][1][col], prediction)\n",
    "            print(col.upper(), round(score, 3))"
   ]
  },
  {
   "cell_type": "markdown",
   "metadata": {},
   "source": [
    "### Заполнение пропусков"
   ]
  },
  {
   "cell_type": "code",
   "execution_count": 10,
   "metadata": {},
   "outputs": [],
   "source": [
    "data_nans = data[data.isna().any(axis=1)]\n",
    "X_nans = data_nans.drop([\"sex\", \"age\", \"address\", \"G3\"], axis=1)\n",
    "\n",
    "X_nans_sex = X_nans[data_nans[\"sex\"].isna()]\n",
    "X_nans_age = X_nans[data_nans[\"age\"].isna()]\n",
    "X_nans_add = X_nans[data_nans[\"address\"].isna()]\n",
    "\n",
    "\n",
    "predictions = dict()\n",
    "predictions[\"sex\"] = classifiers[\"sex\"].predict(X_nans_sex)\n",
    "predictions[\"age\"] = classifiers[\"age\"].predict(X_nans_age)\n",
    "predictions[\"address\"] = classifiers[\"address\"].predict(X_nans_add)"
   ]
  },
  {
   "cell_type": "code",
   "execution_count": 11,
   "metadata": {},
   "outputs": [],
   "source": [
    "for col in [\"sex\", \"age\", \"address\"]:\n",
    "    for i, (index, row) in enumerate(data[data[col].isna()].iterrows()):\n",
    "        data.loc[index, col] = predictions[col][i]\n",
    "    "
   ]
  },
  {
   "cell_type": "markdown",
   "metadata": {
    "id": "Em0erMH6WyEV"
   },
   "source": [
    "## Обоснуйте выбор слабых (базовых) алгоритмов"
   ]
  },
  {
   "cell_type": "markdown",
   "metadata": {
    "id": "KqC_5cbgWyML"
   },
   "source": [
    "В данной задаче решил взять модели, которые были использованны в первом домашнем задании. Не брал только наивный байес, потому что он сильно зависит от корреляции признаков, а это требует отдельной обработки данных для него. В силу желания автоматизировать процесс, байеса я исключил. В нем было задание сделать модель, выдающую ответы на освнове предсказаний базовых. Сейчас будем решать туже самую задачу, но более умным способом.\n",
    "\n",
    "По поводу метрик. На итоговые предсказания я смотрю через `MSE` и `Accuracy`. Уже во время выполнения задания я осознал, почему мне нужно смотреть именно на обе эти метрики. Здесь очень явно прослеживается Bias-Variance trade-off. `MSE` даёт мне понять какая у меня дисперсия ошибок, `Accuracy` показывает на сколько точно я попадаю в нужный класс"
   ]
  },
  {
   "cell_type": "markdown",
   "metadata": {
    "id": "R08QEdnPU-X5"
   },
   "source": [
    "## Постройте решение на основе подхода Blending"
   ]
  },
  {
   "cell_type": "code",
   "execution_count": 12,
   "metadata": {
    "id": "I-Kw6bNqPUoj"
   },
   "outputs": [],
   "source": [
    "def get_classifier_models():\n",
    "    models = {\n",
    "        \"knn\": KNeighborsClassifier(),\n",
    "        \"svm\": SVC(probability=True),\n",
    "        \"lr\" : LogisticRegression()\n",
    "    }\n",
    "    meta_model = SVC()\n",
    "    return models, meta_model"
   ]
  },
  {
   "cell_type": "code",
   "execution_count": 73,
   "metadata": {},
   "outputs": [],
   "source": [
    "def get_classifier_grids():\n",
    "    models_grid = {\n",
    "        \"knn\": {\n",
    "            \"n_neighbors\": np.arange(1, 15)\n",
    "        },\n",
    "        \"svm\": {\n",
    "            \"class_weight\": [\"balanced\"],\n",
    "            \"kernel\": [\"linear\", \"poly\", \"rbf\"],\n",
    "            \"C\": np.linspace(0.001, 10, 20)\n",
    "        },\n",
    "        \"lr\": {\n",
    "            \"solver\": ['saga', 'lgbfs'],\n",
    "            \"C\": [1, 2, 3],\n",
    "            \"penalty\": [\"l1\",\"l2\"],\n",
    "            \"max_iter\": [100, 200]\n",
    "        }\n",
    "    }\n",
    "\n",
    "    meta_model_grid = {\n",
    "        \"class_weight\": [\"balanced\", \"uniform\"],\n",
    "        \"kernel\": [\"linear\", \"poly\", \"rbf\"],\n",
    "        \"C\": np.linspace(0.001, 10, 20)\n",
    "    }\n",
    "    return models_grid, meta_model_grid"
   ]
  },
  {
   "cell_type": "code",
   "execution_count": 66,
   "metadata": {},
   "outputs": [],
   "source": [
    "def get_regressor_models():\n",
    "    models = {\n",
    "        \"knn\": KNeighborsRegressor(),\n",
    "        \"svr\": SVR(),\n",
    "        \"lr\" : LinearRegression()\n",
    "    }\n",
    "    \n",
    "    meta_model = SVR()\n",
    "    return models, meta_model"
   ]
  },
  {
   "cell_type": "code",
   "execution_count": 74,
   "metadata": {},
   "outputs": [],
   "source": [
    "def get_regressor_grids():\n",
    "    models_grid = {\n",
    "        \"knn\": {\n",
    "            \"n_neighbors\": np.arange(1, 25)\n",
    "        },\n",
    "        \"svr\": {\n",
    "            \"kernel\": [\"linear\", \"poly\", \"rbf\"],\n",
    "            \"C\": np.linspace(0.001, 10, 20)\n",
    "        },\n",
    "        \"lr\": {\n",
    "            \"fit_intercept\": [True]\n",
    "        }\n",
    "    }\n",
    "\n",
    "    meta_model_grid = {\n",
    "        \"kernel\": [\"linear\", \"poly\", \"rbf\"],\n",
    "        \"C\": np.linspace(0.001, 10, 20)\n",
    "    }\n",
    "    return models_grid, meta_model_grid"
   ]
  },
  {
   "cell_type": "code",
   "execution_count": 16,
   "metadata": {},
   "outputs": [],
   "source": [
    "def fit_predict_CV(X, y, model_type, params_grid, verbose=False):\n",
    "    model_cv = GridSearchCV(model_type, params_grid, cv=KFold(), refit=True)#, scoring='neg_mean_squared_error')\n",
    "    model_cv.fit(X, y) \n",
    "    \n",
    "    if verbose:\n",
    "        print(\"Best hyperparameters: \", model_cv.best_params_)\n",
    "        print(\"Best score: \", model_cv.best_score_)\n",
    "    \n",
    "    return model_cv.best_estimator_"
   ]
  },
  {
   "cell_type": "code",
   "execution_count": 17,
   "metadata": {},
   "outputs": [],
   "source": [
    "def train_base_models(data, models, grid, verbose=False):\n",
    "    for model_name in tqdm(models.keys()):\n",
    "        if verbose:\n",
    "            print(f\"Model: {model_name}\")\n",
    "        models[model_name] = fit_predict_CV(data[\"X\"], data[\"y\"], models[model_name], grid[model_name], verbose=verbose)\n",
    "        \n",
    "    return models"
   ]
  },
  {
   "cell_type": "code",
   "execution_count": 18,
   "metadata": {},
   "outputs": [],
   "source": [
    "def predict_base_models(X, models, models_type=None):\n",
    "    if models_type is None:\n",
    "        raise ValueError(\"models_type must be non None\")\n",
    "    predictions = None\n",
    "    if models_type == \"cls\":\n",
    "        for model in models.values():\n",
    "            pred = model.predict_proba(X)\n",
    "            if predictions is None:\n",
    "                predictions = pred\n",
    "            else:\n",
    "                predictions = np.hstack([predictions, pred])\n",
    "    if models_type == \"reg\":\n",
    "         for model in models.values():\n",
    "            pred = model.predict(X)\n",
    "            if predictions is None:\n",
    "                predictions = pred[:, None]\n",
    "            else:\n",
    "                predictions = np.hstack([predictions, pred[:, None]])\n",
    "                \n",
    "    return predictions"
   ]
  },
  {
   "cell_type": "code",
   "execution_count": 19,
   "metadata": {},
   "outputs": [],
   "source": [
    "def train_meta_model(data, models, meta_model, grid, models_type=None, verbose=False):\n",
    "    X_train_meta_model = predict_base_models(data[\"X\"], models, models_type)\n",
    "    return fit_predict_CV(X_train_meta_model, data[\"y\"], meta_model, grid, verbose=verbose)"
   ]
  },
  {
   "cell_type": "code",
   "execution_count": 20,
   "metadata": {},
   "outputs": [],
   "source": [
    "def predict_blending(data, models, meta_model, models_type=None):\n",
    "    models_preds = predict_base_models(data[\"X\"], models, models_type)\n",
    "    predictions = meta_model.predict(models_preds)\n",
    "    return predictions"
   ]
  },
  {
   "cell_type": "code",
   "execution_count": 55,
   "metadata": {},
   "outputs": [],
   "source": [
    "X = data.drop([\"G3\"], axis=1)\n",
    "y = data[\"G3\"]\n",
    "\n",
    "x_train, x_val, y_train, y_val = train_test_split(X, y, test_size=0.2, shuffle=True, random_state=42)\n",
    "x_train, x_test, y_train, y_test = train_test_split(x_train, y_train, test_size=0.2, shuffle=True, random_state=42)\n",
    "\n",
    "scaler = StandardScaler()\n",
    "scaler.fit(x_train)\n",
    "\n",
    "data_train = {\n",
    "    \"X\": scaler.transform(x_train),\n",
    "    \"y\": y_train\n",
    "}\n",
    "data_val = {\n",
    "    \"X\": scaler.transform(x_val),\n",
    "    \"y\": y_val\n",
    "}\n",
    "data_test = {\n",
    "    \"X\": scaler.transform(x_test),\n",
    "    \"y\": y_test\n",
    "}"
   ]
  },
  {
   "cell_type": "markdown",
   "metadata": {},
   "source": [
    "### Модели классификации"
   ]
  },
  {
   "cell_type": "code",
   "execution_count": 68,
   "metadata": {},
   "outputs": [],
   "source": [
    "models, meta_model = get_classifier_models()\n",
    "grid, meta_model_grid = get_classifier_grids()"
   ]
  },
  {
   "cell_type": "code",
   "execution_count": 69,
   "metadata": {},
   "outputs": [
    {
     "data": {
      "application/vnd.jupyter.widget-view+json": {
       "model_id": "6d56a954831a40feb70af3f78969adca",
       "version_major": 2,
       "version_minor": 0
      },
      "text/plain": [
       "  0%|          | 0/3 [00:00<?, ?it/s]"
      ]
     },
     "metadata": {},
     "output_type": "display_data"
    },
    {
     "name": "stdout",
     "output_type": "stream",
     "text": [
      "Model: knn\n",
      "Best hyperparameters:  {'n_neighbors': 9}\n",
      "Best score:  0.18275862068965515\n",
      "Model: svm\n",
      "Best hyperparameters:  {'C': 3.031, 'class_weight': 'balanced', 'kernel': 'rbf'}\n",
      "Best score:  0.16551724137931031\n",
      "Model: lr\n",
      "Best hyperparameters:  {'C': 1, 'max_iter': 100, 'penalty': 'l1', 'solver': 'saga'}\n",
      "Best score:  0.12068965517241378\n"
     ]
    }
   ],
   "source": [
    "best_models = train_base_models(data_train, models, grid, verbose=True)\n",
    "trained_meta_model = train_meta_model(\n",
    "    data_val, \n",
    "    best_models, \n",
    "    meta_model, \n",
    "    meta_model_grid,\n",
    "    models_type=\"cls\"\n",
    ")"
   ]
  },
  {
   "cell_type": "code",
   "execution_count": 70,
   "metadata": {},
   "outputs": [
    {
     "name": "stdout",
     "output_type": "stream",
     "text": [
      "Accuracy: 0.0685\n",
      "MSE:      17.178\n"
     ]
    }
   ],
   "source": [
    "predictions = np.round(predict_blending(data_test, best_models, trained_meta_model, models_type=\"cls\"))\n",
    "accuracy = accuracy_score(data_test[\"y\"], np.round(predictions))\n",
    "mse = mean_squared_error(data_test[\"y\"], np.round(predictions))\n",
    "\n",
    "print(f\"Accuracy: {accuracy:.3}\")\n",
    "print(f\"MSE:      {mse:.5}\")"
   ]
  },
  {
   "cell_type": "markdown",
   "metadata": {},
   "source": [
    "Лучшие `результаты`, которые удалось получить \n",
    "- Accuracy: 0.219\n",
    "- MSE:      14.877"
   ]
  },
  {
   "cell_type": "markdown",
   "metadata": {},
   "source": [
    "### Модели регрессии"
   ]
  },
  {
   "cell_type": "code",
   "execution_count": 75,
   "metadata": {},
   "outputs": [],
   "source": [
    "models, meta_model = get_regressor_models()\n",
    "grid, meta_model_grid = get_regressor_grids()"
   ]
  },
  {
   "cell_type": "code",
   "execution_count": 76,
   "metadata": {
    "scrolled": false
   },
   "outputs": [
    {
     "data": {
      "application/vnd.jupyter.widget-view+json": {
       "model_id": "c4d822e334b14c5f99ef038c5c2ac995",
       "version_major": 2,
       "version_minor": 0
      },
      "text/plain": [
       "  0%|          | 0/3 [00:00<?, ?it/s]"
      ]
     },
     "metadata": {},
     "output_type": "display_data"
    },
    {
     "name": "stdout",
     "output_type": "stream",
     "text": [
      "Model: knn\n",
      "Best hyperparameters:  {'n_neighbors': 22}\n",
      "Best score:  0.14643644936134298\n",
      "Model: svr\n",
      "Best hyperparameters:  {'C': 2.1060526315789474, 'kernel': 'rbf'}\n",
      "Best score:  0.2200681277303219\n",
      "Model: lr\n",
      "Best hyperparameters:  {'fit_intercept': True}\n",
      "Best score:  0.1365085884316724\n"
     ]
    }
   ],
   "source": [
    "best_models = train_base_models(data_train, models, grid, verbose=True)\n",
    "trained_meta_model = train_meta_model(\n",
    "    data_val, \n",
    "    best_models, \n",
    "    meta_model, \n",
    "    meta_model_grid,\n",
    "    models_type=\"reg\"\n",
    ")"
   ]
  },
  {
   "cell_type": "code",
   "execution_count": 77,
   "metadata": {},
   "outputs": [
    {
     "name": "stdout",
     "output_type": "stream",
     "text": [
      "Accuracy: 0.219\n",
      "MSE:      8.0822\n"
     ]
    }
   ],
   "source": [
    "predictions = np.round(predict_blending(data_test, best_models, trained_meta_model, models_type=\"reg\"))\n",
    "accuracy = accuracy_score(data_test[\"y\"], np.round(predictions))\n",
    "mse = mean_squared_error(data_test[\"y\"], np.round(predictions))\n",
    "\n",
    "print(f\"Accuracy: {accuracy:.3}\")\n",
    "print(f\"MSE:      {mse:.5}\")"
   ]
  },
  {
   "cell_type": "markdown",
   "metadata": {
    "id": "iRmBr8VRWolP"
   },
   "source": [
    "## Постройте решение на основе подхода Stacking"
   ]
  },
  {
   "cell_type": "markdown",
   "metadata": {
    "id": "5oYYsgNRasfs"
   },
   "source": [
    "Правила:\n",
    "- Реализуйте пайплайн обучения и предсказания (например, sklearn.pipeline или класс)\n",
    "- Проведите оптимизацию пайплайна\n",
    "- Оцените вклад каждого базового алгоритма в итоговое предсказание"
   ]
  },
  {
   "cell_type": "code",
   "execution_count": 247,
   "metadata": {},
   "outputs": [],
   "source": [
    "models = get_classifier_models()[0]\n",
    "estimators = []\n",
    "for model_name in models.keys():\n",
    "    model_pipeline = make_pipeline(\n",
    "        StandardScaler(),\n",
    "        models[model_name]\n",
    "    )\n",
    "    estimators += [(model_name, model_pipeline)]\n",
    "\n",
    "folds = StratifiedKFold(n_splits=3, shuffle=True)\n",
    "\n",
    "clf = StackingClassifier(\n",
    "    estimators=estimators,\n",
    "    final_estimator=LogisticRegression(),\n",
    "    cv=folds\n",
    ")"
   ]
  },
  {
   "cell_type": "code",
   "execution_count": 248,
   "metadata": {},
   "outputs": [],
   "source": [
    "x_train, x_test, y_train, y_test = train_test_split(X, y, test_size=0.2, shuffle=True, random_state=1)"
   ]
  },
  {
   "cell_type": "code",
   "execution_count": 249,
   "metadata": {},
   "outputs": [
    {
     "name": "stdout",
     "output_type": "stream",
     "text": [
      "Accuracy: 0.231\n",
      "MSE:      7.2198\n"
     ]
    }
   ],
   "source": [
    "clf = clf.fit(x_train, y_train)\n",
    "predictions = clf.predict(x_test)\n",
    "\n",
    "accuracy = accuracy_score(y_test, np.round(predictions))\n",
    "mse = mean_squared_error(y_test, np.round(predictions))\n",
    "\n",
    "print(f\"Accuracy: {accuracy:.3}\")\n",
    "print(f\"MSE:      {mse:.5}\")"
   ]
  },
  {
   "cell_type": "markdown",
   "metadata": {},
   "source": [
    "### Оценка вклада моделей"
   ]
  },
  {
   "cell_type": "code",
   "execution_count": 191,
   "metadata": {},
   "outputs": [],
   "source": [
    "metrics = dict()\n",
    "for exclude_model_name in models.keys():\n",
    "    estimators = []\n",
    "    for model_name in models.keys():\n",
    "        if model_name != exclude_model_name:\n",
    "            model_pipeline = make_pipeline(\n",
    "                StandardScaler(),\n",
    "                models[model_name]\n",
    "            )\n",
    "            estimators += [(model_name, model_pipeline)]\n",
    "    \n",
    "    folds = StratifiedKFold(n_splits=5, shuffle=True)\n",
    "\n",
    "    clf = StackingClassifier(\n",
    "        estimators=estimators,\n",
    "        final_estimator=LogisticRegression(),\n",
    "        cv=folds\n",
    "    )\n",
    "    x_train, x_test, y_train, y_test = train_test_split(X, y, test_size=0.2, shuffle=True, random_state=1)\n",
    "    clf = clf.fit(x_train, y_train)\n",
    "    predictions = clf.predict(x_test)\n",
    "\n",
    "    accuracy = accuracy_score(y_test, np.round(predictions))\n",
    "    mse = mean_squared_error(y_test, np.round(predictions))\n",
    "    metrics[exclude_model_name] = (accuracy, mse)"
   ]
  },
  {
   "cell_type": "code",
   "execution_count": 192,
   "metadata": {},
   "outputs": [
    {
     "name": "stdout",
     "output_type": "stream",
     "text": [
      "Metrics without knn\n",
      "Accuracy: 0.209\n",
      "MSE:      8.033\n",
      "\n",
      "Metrics without svm\n",
      "Accuracy: 0.231\n",
      "MSE:      7.1758\n",
      "\n",
      "Metrics without lr\n",
      "Accuracy: 0.176\n",
      "MSE:      7.3736\n",
      "\n"
     ]
    }
   ],
   "source": [
    "for model_name in models.keys():\n",
    "    print(\"Metrics without\", model_name)\n",
    "    print(f\"Accuracy: {metrics[model_name][0]:.3}\")\n",
    "    print(f\"MSE:      {metrics[model_name][1]:.5}\")\n",
    "    print()"
   ]
  }
 ],
 "metadata": {
  "colab": {
   "collapsed_sections": [],
   "provenance": [],
   "toc_visible": true
  },
  "kernelspec": {
   "display_name": "Python 3 (ipykernel)",
   "language": "python",
   "name": "python3"
  },
  "language_info": {
   "codemirror_mode": {
    "name": "ipython",
    "version": 3
   },
   "file_extension": ".py",
   "mimetype": "text/x-python",
   "name": "python",
   "nbconvert_exporter": "python",
   "pygments_lexer": "ipython3",
   "version": "3.8.3"
  }
 },
 "nbformat": 4,
 "nbformat_minor": 1
}
