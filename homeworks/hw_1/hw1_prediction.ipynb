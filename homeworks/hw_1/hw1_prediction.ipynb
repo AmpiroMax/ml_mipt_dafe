{
 "cells": [
  {
   "cell_type": "code",
   "execution_count": 1,
   "id": "2a0986c0",
   "metadata": {},
   "outputs": [],
   "source": [
    "import pandas as pd\n",
    "import numpy as np\n",
    "import matplotlib.pyplot as plt\n",
    "\n",
    "from sklearn import preprocessing\n",
    "\n",
    "from sklearn.metrics import f1_score\n",
    "from sklearn.metrics import accuracy_score\n",
    "from sklearn.model_selection import KFold\n",
    "from sklearn.model_selection import GridSearchCV\n",
    "from sklearn.model_selection import train_test_split\n",
    "\n",
    "from sklearn.neighbors import KNeighborsClassifier\n",
    "from sklearn.naive_bayes import GaussianNB\n",
    "from sklearn.linear_model import LogisticRegression\n",
    "from sklearn.svm import SVC"
   ]
  },
  {
   "cell_type": "markdown",
   "id": "be79d4d7-2974-41a5-a0f0-adcd9a771a50",
   "metadata": {
    "id": "AGf_xvZiT0Ww",
    "tags": []
   },
   "source": [
    "# Домашнее задание № 1\n",
    "\n",
    "Вам необходимо воспользоваться наработками из предыдущих частей задания (подготовка данных, сложные признаки и стратегия валидации) для предсказания оценки (```G3```) на тестовом наборе данных."
   ]
  },
  {
   "cell_type": "markdown",
   "id": "22646374-f328-4412-8c59-5e157e779cf2",
   "metadata": {
    "_cell_guid": "3013b854-7aaa-4ad6-7952-1d188121ea25",
    "id": "FOASQBPeTtWR"
   },
   "source": [
    "# Часть 5. Обучение алгоритма"
   ]
  },
  {
   "cell_type": "markdown",
   "id": "fc9c91d2-bfea-43e0-b6df-7f96664a7d66",
   "metadata": {
    "id": "0mY4P-3KwCxe"
   },
   "source": [
    "Целевая переменная принимает дискретные значения [0; 20], поэтому вы можете поставить как задачу классификации, так и задачу регрессии.\n",
    "\n",
    "!Не забудьте про оптимизацию параметров алгоритмов, у вас же уже есть данные для валидации."
   ]
  },
  {
   "cell_type": "code",
   "execution_count": 2,
   "id": "7f5f9b52",
   "metadata": {},
   "outputs": [],
   "source": [
    "data = pd.read_csv(\"train_preprocesed.csv\")"
   ]
  },
  {
   "cell_type": "code",
   "execution_count": 3,
   "id": "b7a2b8b5",
   "metadata": {},
   "outputs": [],
   "source": [
    "X = data.drop(\"G3\", axis=1)\n",
    "y = data[\"G3\"]\n",
    "\n",
    "X_train, X_test, y_train, y_test = train_test_split(X, y, test_size=0.2, random_state=42)\n",
    "\n",
    "min_max_scaler = preprocessing.MinMaxScaler()\n",
    "X_train = min_max_scaler.fit_transform(X_train)\n",
    "X_test = min_max_scaler.transform(X_test)"
   ]
  },
  {
   "cell_type": "code",
   "execution_count": 4,
   "id": "5f3f27de",
   "metadata": {},
   "outputs": [],
   "source": [
    "def fit_predict_CV(X_train, X_test, y_train, y_test, model_type, params_grid=dict()):\n",
    "    model = model_type()\n",
    "    \n",
    "    model_cv = GridSearchCV(model, params_grid, cv=KFold(), refit=True)\n",
    "    model_cv.fit(X_train, y_train) \n",
    "\n",
    "    best_model = model_cv.best_estimator_\n",
    "\n",
    "    prediction_train = best_model.predict(X_train)\n",
    "    prediction_test = best_model.predict(X_test)\n",
    "    acc_train = accuracy_score(y_train, prediction_train)\n",
    "    acc_test = accuracy_score(y_test, prediction_test)\n",
    "\n",
    "    print(\"Best hyperparameters: \", model_cv.best_params_)\n",
    "    print(\"Train accuracy:       \", round(acc_train, 5))\n",
    "    print(\"Test accuracy:        \", round(acc_test, 5))\n",
    "    \n",
    "    return best_model"
   ]
  },
  {
   "cell_type": "markdown",
   "id": "fcb899db-1e1f-428c-a035-1d2b690714e5",
   "metadata": {
    "id": "hSzT-UXuwc0K"
   },
   "source": [
    "## KNN"
   ]
  },
  {
   "cell_type": "code",
   "execution_count": 5,
   "id": "fb1141e5",
   "metadata": {},
   "outputs": [
    {
     "name": "stdout",
     "output_type": "stream",
     "text": [
      "Best hyperparameters:  {'n_neighbors': 2}\n",
      "Train accuracy:        0.60055\n",
      "Test accuracy:         0.14286\n"
     ]
    }
   ],
   "source": [
    "grid = {\"n_neighbors\": np.arange(1, 15)}\n",
    "knn = fit_predict_CV(X_train, X_test, y_train, y_test, KNeighborsClassifier, grid)"
   ]
  },
  {
   "cell_type": "markdown",
   "id": "c0b47e9a-3c22-415c-98db-8be4aabbf021",
   "metadata": {
    "id": "zmxKux_4TjVy"
   },
   "source": [
    "## Bayes"
   ]
  },
  {
   "cell_type": "code",
   "execution_count": 6,
   "id": "e7976a0b-0a53-4a9d-b7b6-e5fd5dbf83a6",
   "metadata": {
    "id": "UZheW_0oT5vo"
   },
   "outputs": [
    {
     "name": "stdout",
     "output_type": "stream",
     "text": [
      "Best hyperparameters:  {}\n",
      "Train accuracy:        0.16529\n",
      "Test accuracy:         0.07692\n"
     ]
    }
   ],
   "source": [
    "bayes = fit_predict_CV(X_train, X_test, y_train, y_test, GaussianNB)"
   ]
  },
  {
   "cell_type": "markdown",
   "id": "dbe6c3e0-11c0-4f15-8cab-9250255625fc",
   "metadata": {
    "_cell_guid": "7febeef3-e6b0-a18a-5705-7ee3876c1965",
    "id": "Udr6RqDEwc0P"
   },
   "source": [
    "## Регрессия"
   ]
  },
  {
   "cell_type": "code",
   "execution_count": 7,
   "id": "085309de",
   "metadata": {},
   "outputs": [
    {
     "name": "stderr",
     "output_type": "stream",
     "text": [
      "c:\\Max\\Anaconda\\lib\\site-packages\\sklearn\\linear_model\\_sag.py:350: ConvergenceWarning: The max_iter was reached which means the coef_ did not converge\n",
      "  warnings.warn(\n",
      "c:\\Max\\Anaconda\\lib\\site-packages\\sklearn\\linear_model\\_sag.py:350: ConvergenceWarning: The max_iter was reached which means the coef_ did not converge\n",
      "  warnings.warn(\n",
      "c:\\Max\\Anaconda\\lib\\site-packages\\sklearn\\linear_model\\_sag.py:350: ConvergenceWarning: The max_iter was reached which means the coef_ did not converge\n",
      "  warnings.warn(\n",
      "c:\\Max\\Anaconda\\lib\\site-packages\\sklearn\\linear_model\\_sag.py:350: ConvergenceWarning: The max_iter was reached which means the coef_ did not converge\n",
      "  warnings.warn(\n",
      "c:\\Max\\Anaconda\\lib\\site-packages\\sklearn\\linear_model\\_sag.py:350: ConvergenceWarning: The max_iter was reached which means the coef_ did not converge\n",
      "  warnings.warn(\n",
      "c:\\Max\\Anaconda\\lib\\site-packages\\sklearn\\linear_model\\_sag.py:350: ConvergenceWarning: The max_iter was reached which means the coef_ did not converge\n",
      "  warnings.warn(\n",
      "c:\\Max\\Anaconda\\lib\\site-packages\\sklearn\\linear_model\\_sag.py:350: ConvergenceWarning: The max_iter was reached which means the coef_ did not converge\n",
      "  warnings.warn(\n",
      "c:\\Max\\Anaconda\\lib\\site-packages\\sklearn\\linear_model\\_sag.py:350: ConvergenceWarning: The max_iter was reached which means the coef_ did not converge\n",
      "  warnings.warn(\n",
      "c:\\Max\\Anaconda\\lib\\site-packages\\sklearn\\linear_model\\_sag.py:350: ConvergenceWarning: The max_iter was reached which means the coef_ did not converge\n",
      "  warnings.warn(\n",
      "c:\\Max\\Anaconda\\lib\\site-packages\\sklearn\\linear_model\\_sag.py:350: ConvergenceWarning: The max_iter was reached which means the coef_ did not converge\n",
      "  warnings.warn(\n",
      "c:\\Max\\Anaconda\\lib\\site-packages\\sklearn\\linear_model\\_sag.py:350: ConvergenceWarning: The max_iter was reached which means the coef_ did not converge\n",
      "  warnings.warn(\n",
      "c:\\Max\\Anaconda\\lib\\site-packages\\sklearn\\linear_model\\_sag.py:350: ConvergenceWarning: The max_iter was reached which means the coef_ did not converge\n",
      "  warnings.warn(\n",
      "c:\\Max\\Anaconda\\lib\\site-packages\\sklearn\\linear_model\\_sag.py:350: ConvergenceWarning: The max_iter was reached which means the coef_ did not converge\n",
      "  warnings.warn(\n",
      "c:\\Max\\Anaconda\\lib\\site-packages\\sklearn\\linear_model\\_sag.py:350: ConvergenceWarning: The max_iter was reached which means the coef_ did not converge\n",
      "  warnings.warn(\n",
      "c:\\Max\\Anaconda\\lib\\site-packages\\sklearn\\linear_model\\_sag.py:350: ConvergenceWarning: The max_iter was reached which means the coef_ did not converge\n",
      "  warnings.warn(\n",
      "c:\\Max\\Anaconda\\lib\\site-packages\\sklearn\\linear_model\\_sag.py:350: ConvergenceWarning: The max_iter was reached which means the coef_ did not converge\n",
      "  warnings.warn(\n",
      "c:\\Max\\Anaconda\\lib\\site-packages\\sklearn\\linear_model\\_sag.py:350: ConvergenceWarning: The max_iter was reached which means the coef_ did not converge\n",
      "  warnings.warn(\n",
      "c:\\Max\\Anaconda\\lib\\site-packages\\sklearn\\linear_model\\_sag.py:350: ConvergenceWarning: The max_iter was reached which means the coef_ did not converge\n",
      "  warnings.warn(\n",
      "c:\\Max\\Anaconda\\lib\\site-packages\\sklearn\\linear_model\\_sag.py:350: ConvergenceWarning: The max_iter was reached which means the coef_ did not converge\n",
      "  warnings.warn(\n",
      "c:\\Max\\Anaconda\\lib\\site-packages\\sklearn\\linear_model\\_sag.py:350: ConvergenceWarning: The max_iter was reached which means the coef_ did not converge\n",
      "  warnings.warn(\n",
      "c:\\Max\\Anaconda\\lib\\site-packages\\sklearn\\linear_model\\_sag.py:350: ConvergenceWarning: The max_iter was reached which means the coef_ did not converge\n",
      "  warnings.warn(\n",
      "c:\\Max\\Anaconda\\lib\\site-packages\\sklearn\\linear_model\\_sag.py:350: ConvergenceWarning: The max_iter was reached which means the coef_ did not converge\n",
      "  warnings.warn(\n",
      "c:\\Max\\Anaconda\\lib\\site-packages\\sklearn\\linear_model\\_sag.py:350: ConvergenceWarning: The max_iter was reached which means the coef_ did not converge\n",
      "  warnings.warn(\n",
      "c:\\Max\\Anaconda\\lib\\site-packages\\sklearn\\linear_model\\_sag.py:350: ConvergenceWarning: The max_iter was reached which means the coef_ did not converge\n",
      "  warnings.warn(\n",
      "c:\\Max\\Anaconda\\lib\\site-packages\\sklearn\\linear_model\\_sag.py:350: ConvergenceWarning: The max_iter was reached which means the coef_ did not converge\n",
      "  warnings.warn(\n",
      "c:\\Max\\Anaconda\\lib\\site-packages\\sklearn\\linear_model\\_sag.py:350: ConvergenceWarning: The max_iter was reached which means the coef_ did not converge\n",
      "  warnings.warn(\n",
      "c:\\Max\\Anaconda\\lib\\site-packages\\sklearn\\linear_model\\_sag.py:350: ConvergenceWarning: The max_iter was reached which means the coef_ did not converge\n",
      "  warnings.warn(\n",
      "c:\\Max\\Anaconda\\lib\\site-packages\\sklearn\\linear_model\\_sag.py:350: ConvergenceWarning: The max_iter was reached which means the coef_ did not converge\n",
      "  warnings.warn(\n",
      "c:\\Max\\Anaconda\\lib\\site-packages\\sklearn\\linear_model\\_sag.py:350: ConvergenceWarning: The max_iter was reached which means the coef_ did not converge\n",
      "  warnings.warn(\n",
      "c:\\Max\\Anaconda\\lib\\site-packages\\sklearn\\linear_model\\_sag.py:350: ConvergenceWarning: The max_iter was reached which means the coef_ did not converge\n",
      "  warnings.warn(\n",
      "c:\\Max\\Anaconda\\lib\\site-packages\\sklearn\\linear_model\\_sag.py:350: ConvergenceWarning: The max_iter was reached which means the coef_ did not converge\n",
      "  warnings.warn(\n",
      "c:\\Max\\Anaconda\\lib\\site-packages\\sklearn\\linear_model\\_sag.py:350: ConvergenceWarning: The max_iter was reached which means the coef_ did not converge\n",
      "  warnings.warn(\n",
      "c:\\Max\\Anaconda\\lib\\site-packages\\sklearn\\linear_model\\_sag.py:350: ConvergenceWarning: The max_iter was reached which means the coef_ did not converge\n",
      "  warnings.warn(\n",
      "c:\\Max\\Anaconda\\lib\\site-packages\\sklearn\\linear_model\\_sag.py:350: ConvergenceWarning: The max_iter was reached which means the coef_ did not converge\n",
      "  warnings.warn(\n",
      "c:\\Max\\Anaconda\\lib\\site-packages\\sklearn\\linear_model\\_sag.py:350: ConvergenceWarning: The max_iter was reached which means the coef_ did not converge\n",
      "  warnings.warn(\n",
      "c:\\Max\\Anaconda\\lib\\site-packages\\sklearn\\linear_model\\_sag.py:350: ConvergenceWarning: The max_iter was reached which means the coef_ did not converge\n",
      "  warnings.warn(\n",
      "c:\\Max\\Anaconda\\lib\\site-packages\\sklearn\\linear_model\\_sag.py:350: ConvergenceWarning: The max_iter was reached which means the coef_ did not converge\n",
      "  warnings.warn(\n",
      "c:\\Max\\Anaconda\\lib\\site-packages\\sklearn\\linear_model\\_sag.py:350: ConvergenceWarning: The max_iter was reached which means the coef_ did not converge\n",
      "  warnings.warn(\n",
      "c:\\Max\\Anaconda\\lib\\site-packages\\sklearn\\linear_model\\_sag.py:350: ConvergenceWarning: The max_iter was reached which means the coef_ did not converge\n",
      "  warnings.warn(\n",
      "c:\\Max\\Anaconda\\lib\\site-packages\\sklearn\\linear_model\\_sag.py:350: ConvergenceWarning: The max_iter was reached which means the coef_ did not converge\n",
      "  warnings.warn(\n",
      "c:\\Max\\Anaconda\\lib\\site-packages\\sklearn\\linear_model\\_sag.py:350: ConvergenceWarning: The max_iter was reached which means the coef_ did not converge\n",
      "  warnings.warn(\n",
      "c:\\Max\\Anaconda\\lib\\site-packages\\sklearn\\linear_model\\_sag.py:350: ConvergenceWarning: The max_iter was reached which means the coef_ did not converge\n",
      "  warnings.warn(\n",
      "c:\\Max\\Anaconda\\lib\\site-packages\\sklearn\\linear_model\\_sag.py:350: ConvergenceWarning: The max_iter was reached which means the coef_ did not converge\n",
      "  warnings.warn(\n",
      "c:\\Max\\Anaconda\\lib\\site-packages\\sklearn\\linear_model\\_sag.py:350: ConvergenceWarning: The max_iter was reached which means the coef_ did not converge\n",
      "  warnings.warn(\n",
      "c:\\Max\\Anaconda\\lib\\site-packages\\sklearn\\linear_model\\_sag.py:350: ConvergenceWarning: The max_iter was reached which means the coef_ did not converge\n",
      "  warnings.warn(\n",
      "c:\\Max\\Anaconda\\lib\\site-packages\\sklearn\\linear_model\\_sag.py:350: ConvergenceWarning: The max_iter was reached which means the coef_ did not converge\n",
      "  warnings.warn(\n",
      "c:\\Max\\Anaconda\\lib\\site-packages\\sklearn\\linear_model\\_sag.py:350: ConvergenceWarning: The max_iter was reached which means the coef_ did not converge\n",
      "  warnings.warn(\n",
      "c:\\Max\\Anaconda\\lib\\site-packages\\sklearn\\linear_model\\_sag.py:350: ConvergenceWarning: The max_iter was reached which means the coef_ did not converge\n",
      "  warnings.warn(\n",
      "c:\\Max\\Anaconda\\lib\\site-packages\\sklearn\\linear_model\\_sag.py:350: ConvergenceWarning: The max_iter was reached which means the coef_ did not converge\n",
      "  warnings.warn(\n",
      "c:\\Max\\Anaconda\\lib\\site-packages\\sklearn\\linear_model\\_sag.py:350: ConvergenceWarning: The max_iter was reached which means the coef_ did not converge\n",
      "  warnings.warn(\n",
      "c:\\Max\\Anaconda\\lib\\site-packages\\sklearn\\linear_model\\_sag.py:350: ConvergenceWarning: The max_iter was reached which means the coef_ did not converge\n",
      "  warnings.warn(\n",
      "c:\\Max\\Anaconda\\lib\\site-packages\\sklearn\\linear_model\\_sag.py:350: ConvergenceWarning: The max_iter was reached which means the coef_ did not converge\n",
      "  warnings.warn(\n",
      "c:\\Max\\Anaconda\\lib\\site-packages\\sklearn\\linear_model\\_sag.py:350: ConvergenceWarning: The max_iter was reached which means the coef_ did not converge\n",
      "  warnings.warn(\n",
      "c:\\Max\\Anaconda\\lib\\site-packages\\sklearn\\linear_model\\_sag.py:350: ConvergenceWarning: The max_iter was reached which means the coef_ did not converge\n",
      "  warnings.warn(\n",
      "c:\\Max\\Anaconda\\lib\\site-packages\\sklearn\\linear_model\\_sag.py:350: ConvergenceWarning: The max_iter was reached which means the coef_ did not converge\n",
      "  warnings.warn(\n",
      "c:\\Max\\Anaconda\\lib\\site-packages\\sklearn\\linear_model\\_sag.py:350: ConvergenceWarning: The max_iter was reached which means the coef_ did not converge\n",
      "  warnings.warn(\n",
      "c:\\Max\\Anaconda\\lib\\site-packages\\sklearn\\linear_model\\_sag.py:350: ConvergenceWarning: The max_iter was reached which means the coef_ did not converge\n",
      "  warnings.warn(\n",
      "c:\\Max\\Anaconda\\lib\\site-packages\\sklearn\\linear_model\\_sag.py:350: ConvergenceWarning: The max_iter was reached which means the coef_ did not converge\n",
      "  warnings.warn(\n",
      "c:\\Max\\Anaconda\\lib\\site-packages\\sklearn\\linear_model\\_sag.py:350: ConvergenceWarning: The max_iter was reached which means the coef_ did not converge\n",
      "  warnings.warn(\n",
      "c:\\Max\\Anaconda\\lib\\site-packages\\sklearn\\linear_model\\_sag.py:350: ConvergenceWarning: The max_iter was reached which means the coef_ did not converge\n",
      "  warnings.warn(\n",
      "c:\\Max\\Anaconda\\lib\\site-packages\\sklearn\\model_selection\\_validation.py:378: FitFailedWarning: \n",
      "60 fits failed out of a total of 120.\n",
      "The score on these train-test partitions for these parameters will be set to nan.\n",
      "If these failures are not expected, you can try to debug them by setting error_score='raise'.\n",
      "\n",
      "Below are more details about the failures:\n",
      "--------------------------------------------------------------------------------\n",
      "60 fits failed with the following error:\n",
      "Traceback (most recent call last):\n",
      "  File \"c:\\Max\\Anaconda\\lib\\site-packages\\sklearn\\model_selection\\_validation.py\", line 686, in _fit_and_score\n",
      "    estimator.fit(X_train, y_train, **fit_params)\n",
      "  File \"c:\\Max\\Anaconda\\lib\\site-packages\\sklearn\\linear_model\\_logistic.py\", line 1091, in fit\n",
      "    solver = _check_solver(self.solver, self.penalty, self.dual)\n",
      "  File \"c:\\Max\\Anaconda\\lib\\site-packages\\sklearn\\linear_model\\_logistic.py\", line 48, in _check_solver\n",
      "    raise ValueError(\n",
      "ValueError: Logistic Regression supports only solvers in ['liblinear', 'newton-cg', 'lbfgs', 'sag', 'saga'], got lgbfs.\n",
      "\n",
      "  warnings.warn(some_fits_failed_message, FitFailedWarning)\n",
      "c:\\Max\\Anaconda\\lib\\site-packages\\sklearn\\model_selection\\_search.py:953: UserWarning: One or more of the test scores are non-finite: [0.19280822        nan 0.17899543        nan 0.19280822        nan\n",
      " 0.17621766        nan 0.14866819        nan 0.1652207         nan\n",
      " 0.15144597        nan 0.16518265        nan 0.15422374        nan\n",
      " 0.16796043        nan 0.15422374        nan 0.17070015        nan]\n",
      "  warnings.warn(\n"
     ]
    },
    {
     "name": "stdout",
     "output_type": "stream",
     "text": [
      "Best hyperparameters:  {'C': 1, 'max_iter': 100, 'penalty': 'l1', 'solver': 'saga'}\n",
      "Train accuracy:        0.33333\n",
      "Test accuracy:         0.13187\n"
     ]
    },
    {
     "name": "stderr",
     "output_type": "stream",
     "text": [
      "c:\\Max\\Anaconda\\lib\\site-packages\\sklearn\\linear_model\\_sag.py:350: ConvergenceWarning: The max_iter was reached which means the coef_ did not converge\n",
      "  warnings.warn(\n"
     ]
    }
   ],
   "source": [
    "grid = {\n",
    "    \"solver\": ['saga', 'lgbfs'],\n",
    "    \"C\": [1, 2, 3],\n",
    "    \"penalty\": [\"l1\",\"l2\"],\n",
    "    \"max_iter\": [100, 200]\n",
    "}\n",
    "regression = fit_predict_CV(X_train, X_test, y_train, y_test, LogisticRegression, grid)"
   ]
  },
  {
   "cell_type": "markdown",
   "id": "7975eaae-4b07-43b8-a4c7-c573f8593957",
   "metadata": {
    "id": "BuTgmr4HT0x5"
   },
   "source": [
    "## SVM"
   ]
  },
  {
   "cell_type": "code",
   "execution_count": 8,
   "id": "b4d9bf14",
   "metadata": {},
   "outputs": [
    {
     "name": "stdout",
     "output_type": "stream",
     "text": [
      "Best hyperparameters:  {'C': 3.0, 'class_weight': 'balanced', 'kernel': 'poly'}\n",
      "Train accuracy:        0.98072\n",
      "Test accuracy:         0.12088\n"
     ]
    }
   ],
   "source": [
    "grid = {\n",
    "    \"class_weight\": [\"balanced\"],\n",
    "    \"kernel\": [\"linear\", \"poly\", \"rbf\"],\n",
    "    # \"degree\": np.arange(1, 10),\n",
    "    \"C\": np.linspace(1, 10, 10)\n",
    "}\n",
    "svm = fit_predict_CV(X_train, X_test, y_train, y_test, SVC, grid)"
   ]
  },
  {
   "cell_type": "markdown",
   "id": "8a1ce346-4ac2-4950-b2c8-ffc6cdb0cca5",
   "metadata": {
    "id": "IZwVMhCdVN4J"
   },
   "source": [
    "## Постройте сложную модель на основе предыдущих четырех простых и оцените ее точность"
   ]
  },
  {
   "cell_type": "markdown",
   "id": "dfad6385-0e3b-47c2-aecf-0e894089f013",
   "metadata": {
    "id": "AIVA5eAGWCvn"
   },
   "source": [
    "Вариант 1. Нужно взвесить предсказания простых моделей. Предложите метод взвешивания."
   ]
  },
  {
   "cell_type": "code",
   "execution_count": 9,
   "id": "2a791883-273f-4b2d-a300-8a6d287b44f7",
   "metadata": {
    "id": "FyY66n-0VN-o"
   },
   "outputs": [],
   "source": [
    "def my_prediction(X):\n",
    "    \"\"\" \n",
    "    Предсказываемый класс - класс, в котором уверено большинство моделей. \n",
    "    Если все модели выдали различный результат, то отдаём предпочтение SVM.\n",
    "    \"\"\"\n",
    "    models_preds = np.array([[svm.predict(X)], [knn.predict(X)], [bayes.predict(X)], [regression.predict(X)]]).T.reshape(91, 4)\n",
    "    my_preds = []\n",
    "\n",
    "    for i in range(models_preds.shape[0]):\n",
    "        my_preds += [np.argmax(np.bincount(models_preds[i]))]\n",
    "\n",
    "    return my_preds"
   ]
  },
  {
   "cell_type": "code",
   "execution_count": 10,
   "id": "14cd26f1",
   "metadata": {},
   "outputs": [
    {
     "name": "stdout",
     "output_type": "stream",
     "text": [
      "Monster accuracy: 0.11\n"
     ]
    }
   ],
   "source": [
    "my_pred = my_prediction(X_test)\n",
    "score = accuracy_score(y_test, my_pred)\n",
    "print(\"Monster accuracy:\", round(score, 3))"
   ]
  },
  {
   "cell_type": "markdown",
   "id": "2e550dac-82ba-41bc-835e-61a4661e2452",
   "metadata": {
    "id": "j52FCl5YW9am"
   },
   "source": [
    "Вариант 2. Нужно оценить корреляцию предсказаний простых моделей."
   ]
  },
  {
   "cell_type": "code",
   "execution_count": 11,
   "id": "1c992ab6-ad87-48a9-9535-e9c8940a1d5c",
   "metadata": {
    "id": "9OsdrEwwW9aw"
   },
   "outputs": [],
   "source": [
    "prediction_data = dict()\n",
    "prediction_data[\"knn\"] = knn.predict(X_train)\n",
    "prediction_data[\"bayes\"] = bayes.predict(X_train)\n",
    "prediction_data[\"reg\"] = regression.predict(X_train)\n",
    "prediction_data[\"svm\"] = svm.predict(X_train)\n",
    "df_prediction = pd.DataFrame(prediction_data)"
   ]
  },
  {
   "cell_type": "code",
   "execution_count": 12,
   "id": "160f46c1",
   "metadata": {},
   "outputs": [
    {
     "data": {
      "text/html": [
       "<div>\n",
       "<style scoped>\n",
       "    .dataframe tbody tr th:only-of-type {\n",
       "        vertical-align: middle;\n",
       "    }\n",
       "\n",
       "    .dataframe tbody tr th {\n",
       "        vertical-align: top;\n",
       "    }\n",
       "\n",
       "    .dataframe thead th {\n",
       "        text-align: right;\n",
       "    }\n",
       "</style>\n",
       "<table border=\"1\" class=\"dataframe\">\n",
       "  <thead>\n",
       "    <tr style=\"text-align: right;\">\n",
       "      <th></th>\n",
       "      <th>knn</th>\n",
       "      <th>bayes</th>\n",
       "      <th>reg</th>\n",
       "      <th>svm</th>\n",
       "    </tr>\n",
       "  </thead>\n",
       "  <tbody>\n",
       "    <tr>\n",
       "      <th>knn</th>\n",
       "      <td>1.000000</td>\n",
       "      <td>0.521113</td>\n",
       "      <td>0.477537</td>\n",
       "      <td>0.712042</td>\n",
       "    </tr>\n",
       "    <tr>\n",
       "      <th>bayes</th>\n",
       "      <td>0.521113</td>\n",
       "      <td>1.000000</td>\n",
       "      <td>0.518503</td>\n",
       "      <td>0.587724</td>\n",
       "    </tr>\n",
       "    <tr>\n",
       "      <th>reg</th>\n",
       "      <td>0.477537</td>\n",
       "      <td>0.518503</td>\n",
       "      <td>1.000000</td>\n",
       "      <td>0.517006</td>\n",
       "    </tr>\n",
       "    <tr>\n",
       "      <th>svm</th>\n",
       "      <td>0.712042</td>\n",
       "      <td>0.587724</td>\n",
       "      <td>0.517006</td>\n",
       "      <td>1.000000</td>\n",
       "    </tr>\n",
       "  </tbody>\n",
       "</table>\n",
       "</div>"
      ],
      "text/plain": [
       "            knn     bayes       reg       svm\n",
       "knn    1.000000  0.521113  0.477537  0.712042\n",
       "bayes  0.521113  1.000000  0.518503  0.587724\n",
       "reg    0.477537  0.518503  1.000000  0.517006\n",
       "svm    0.712042  0.587724  0.517006  1.000000"
      ]
     },
     "execution_count": 12,
     "metadata": {},
     "output_type": "execute_result"
    }
   ],
   "source": [
    "df_prediction.corr()"
   ]
  },
  {
   "cell_type": "markdown",
   "id": "208a2eca-34e3-4339-830e-e5b26eee33bb",
   "metadata": {
    "_cell_guid": "3013b854-7aaa-4ad6-7952-1d188121ea25",
    "id": "Jesi9XuFxDC4"
   },
   "source": [
    "## Сделайте итоговое предсказание"
   ]
  },
  {
   "cell_type": "markdown",
   "id": "788d78fb-ee0f-40c9-9831-97b7cffe44ed",
   "metadata": {
    "id": "o1RKHAMMxDC5"
   },
   "source": [
    "Решением домашнего задания является данный ноутбук + .csv файл с предсказанием. Пример формата файла, который должен у вас получится приведен в ```sample_submission.csv```. Данные для предсказания - ```X_test.csv```.\n",
    "\n",
    "За лучшее предсказание 5 человек получат +10% к домашке.\n",
    "\n",
    "Значения предсказаний должны быть целочисленными. Проверка будет точности решения будет по MSE."
   ]
  },
  {
   "cell_type": "code",
   "execution_count": 13,
   "id": "0bc6bd5d",
   "metadata": {},
   "outputs": [],
   "source": [
    "test_data = pd.read_csv(\"X_test.csv\")\n",
    "\n",
    "cat_columns = []\n",
    "for name in test_data.columns:\n",
    "    if name not in test_data._get_numeric_data().columns:\n",
    "        cat_columns += [name]\n",
    "\n",
    "for col in cat_columns:\n",
    "    test_data[col] = pd.factorize(test_data[col], na_sentinel=-1, sort=True)[0]\n",
    "\n",
    "test_data.loc[test_data[\"sex\"] == -1, \"sex\"] = np.nan\n",
    "test_data.loc[test_data[\"address\"] == -1, \"address\"] = np.nan"
   ]
  },
  {
   "cell_type": "code",
   "execution_count": 14,
   "id": "bf241996",
   "metadata": {},
   "outputs": [],
   "source": [
    "best_model = svm"
   ]
  },
  {
   "cell_type": "code",
   "execution_count": 15,
   "id": "f3bc9980-1330-439f-8d1f-f980620c4a14",
   "metadata": {
    "_cell_guid": "74f8d40e-415f-9e29-03ca-aa1e75714c11",
    "id": "4jjz8kfUxDC7"
   },
   "outputs": [
    {
     "name": "stderr",
     "output_type": "stream",
     "text": [
      "c:\\Max\\Anaconda\\lib\\site-packages\\sklearn\\base.py:443: UserWarning: X has feature names, but SVC was fitted without feature names\n",
      "  warnings.warn(\n"
     ]
    }
   ],
   "source": [
    "# Для jupyter notebook\n",
    "submission = pd.read_csv('sample_submission.csv', index_col='id')\n",
    "submission['G3'] = best_model.predict(test_data)\n",
    "submission.to_csv('submission.csv', index=False) "
   ]
  },
  {
   "cell_type": "markdown",
   "id": "7582f216-5e7c-4189-ad8d-1a5f1714a6a0",
   "metadata": {
    "id": "Fq3f92ANsvZ3"
   },
   "source": [
    "# Часть 6. Состязательная валидация (Adversarial Validation)"
   ]
  },
  {
   "cell_type": "markdown",
   "id": "26b24cd0-771b-440d-9fad-f792a9a00d81",
   "metadata": {
    "id": "IPvFGp92s4Fv"
   },
   "source": [
    "Данная стратегия часто применяется в соревнованиях по машинному обучению. Так как проверить свой алгоритм возможно только на заданном тренировочном наборе данных, а результат требуется к набору, для которого нет ответов, то выбирают следующий подход:\n",
    "- оценить степень схожести тренировочных и тестовых данных;\n",
    "- составить валидацию из тех тренировочных данных, которые больше похожи на тестовые.\n",
    "\n",
    "Алгоритм реализации AV:\n",
    "1. Удаляем ответы из тренировочных данных.\n",
    "2. Добавляем специальные метки (```is_test```) для классов: тренировочные данные и тестовые.\n",
    "То есть у тестовых данных будет значение ```is_test = 1```, а у тренировочных ```is_test = 0```.\n",
    "4. Учим алгоритм классификации предсказывать заданную метку ```is_test```.\n",
    "5. Делим тренировочные данные на N частей и проводим кросс-валидацию.\n",
    "\n",
    "Обучаем N алгоритмов классификации: каждый обучается на всех тестовых данных и на N-1 наборах тренировочных. Предсказываем на 1 тренировочном наборе.\n",
    "\n",
    "6. Для каждого элемента в выборке предсказываем вероятность принадлежности класса и сортируем тренировочные данные по вероятности принадлежности тестовой выборке.\n",
    "7. Выделяем заданное число данных в валидацию.\n",
    "8. Обучаемся для итогового предсказания на всех данных."
   ]
  },
  {
   "cell_type": "code",
   "execution_count": 16,
   "id": "b0fce4ce",
   "metadata": {},
   "outputs": [],
   "source": [
    "train_adv = data.drop(\"G3\", axis=1)\n",
    "test_adv = test_data.copy()\n",
    "\n",
    "train_adv[\"is_test\"] = 0\n",
    "test_adv[\"is_test\"] = 1"
   ]
  },
  {
   "cell_type": "code",
   "execution_count": 17,
   "id": "fa368396",
   "metadata": {},
   "outputs": [
    {
     "data": {
      "text/html": [
       "<div>\n",
       "<style scoped>\n",
       "    .dataframe tbody tr th:only-of-type {\n",
       "        vertical-align: middle;\n",
       "    }\n",
       "\n",
       "    .dataframe tbody tr th {\n",
       "        vertical-align: top;\n",
       "    }\n",
       "\n",
       "    .dataframe thead th {\n",
       "        text-align: right;\n",
       "    }\n",
       "</style>\n",
       "<table border=\"1\" class=\"dataframe\">\n",
       "  <thead>\n",
       "    <tr style=\"text-align: right;\">\n",
       "      <th></th>\n",
       "      <th>school</th>\n",
       "      <th>sex</th>\n",
       "      <th>age</th>\n",
       "      <th>address</th>\n",
       "      <th>famsize</th>\n",
       "      <th>Pstatus</th>\n",
       "      <th>Medu</th>\n",
       "      <th>Fedu</th>\n",
       "      <th>Mjob</th>\n",
       "      <th>Fjob</th>\n",
       "      <th>...</th>\n",
       "      <th>internet</th>\n",
       "      <th>romantic</th>\n",
       "      <th>famrel</th>\n",
       "      <th>freetime</th>\n",
       "      <th>goout</th>\n",
       "      <th>Dalc</th>\n",
       "      <th>Walc</th>\n",
       "      <th>health</th>\n",
       "      <th>absences</th>\n",
       "      <th>is_test</th>\n",
       "    </tr>\n",
       "  </thead>\n",
       "  <tbody>\n",
       "    <tr>\n",
       "      <th>162</th>\n",
       "      <td>0</td>\n",
       "      <td>1.0</td>\n",
       "      <td>15.0</td>\n",
       "      <td>1.0</td>\n",
       "      <td>0</td>\n",
       "      <td>1</td>\n",
       "      <td>4</td>\n",
       "      <td>3</td>\n",
       "      <td>4</td>\n",
       "      <td>2</td>\n",
       "      <td>...</td>\n",
       "      <td>1</td>\n",
       "      <td>0</td>\n",
       "      <td>3</td>\n",
       "      <td>4</td>\n",
       "      <td>3</td>\n",
       "      <td>2</td>\n",
       "      <td>3</td>\n",
       "      <td>3</td>\n",
       "      <td>4</td>\n",
       "      <td>0</td>\n",
       "    </tr>\n",
       "    <tr>\n",
       "      <th>175</th>\n",
       "      <td>0</td>\n",
       "      <td>0.0</td>\n",
       "      <td>17.0</td>\n",
       "      <td>1.0</td>\n",
       "      <td>0</td>\n",
       "      <td>0</td>\n",
       "      <td>4</td>\n",
       "      <td>3</td>\n",
       "      <td>3</td>\n",
       "      <td>3</td>\n",
       "      <td>...</td>\n",
       "      <td>1</td>\n",
       "      <td>1</td>\n",
       "      <td>5</td>\n",
       "      <td>2</td>\n",
       "      <td>2</td>\n",
       "      <td>1</td>\n",
       "      <td>2</td>\n",
       "      <td>5</td>\n",
       "      <td>14</td>\n",
       "      <td>0</td>\n",
       "    </tr>\n",
       "    <tr>\n",
       "      <th>106</th>\n",
       "      <td>0</td>\n",
       "      <td>0.0</td>\n",
       "      <td>16.0</td>\n",
       "      <td>1.0</td>\n",
       "      <td>1</td>\n",
       "      <td>0</td>\n",
       "      <td>3</td>\n",
       "      <td>4</td>\n",
       "      <td>2</td>\n",
       "      <td>2</td>\n",
       "      <td>...</td>\n",
       "      <td>1</td>\n",
       "      <td>1</td>\n",
       "      <td>5</td>\n",
       "      <td>3</td>\n",
       "      <td>2</td>\n",
       "      <td>1</td>\n",
       "      <td>1</td>\n",
       "      <td>1</td>\n",
       "      <td>0</td>\n",
       "      <td>0</td>\n",
       "    </tr>\n",
       "    <tr>\n",
       "      <th>317</th>\n",
       "      <td>0</td>\n",
       "      <td>0.0</td>\n",
       "      <td>19.0</td>\n",
       "      <td>1.0</td>\n",
       "      <td>0</td>\n",
       "      <td>1</td>\n",
       "      <td>3</td>\n",
       "      <td>3</td>\n",
       "      <td>2</td>\n",
       "      <td>2</td>\n",
       "      <td>...</td>\n",
       "      <td>1</td>\n",
       "      <td>0</td>\n",
       "      <td>4</td>\n",
       "      <td>3</td>\n",
       "      <td>3</td>\n",
       "      <td>1</td>\n",
       "      <td>2</td>\n",
       "      <td>3</td>\n",
       "      <td>4</td>\n",
       "      <td>0</td>\n",
       "    </tr>\n",
       "    <tr>\n",
       "      <th>292</th>\n",
       "      <td>1</td>\n",
       "      <td>1.0</td>\n",
       "      <td>18.0</td>\n",
       "      <td>1.0</td>\n",
       "      <td>1</td>\n",
       "      <td>1</td>\n",
       "      <td>4</td>\n",
       "      <td>4</td>\n",
       "      <td>0</td>\n",
       "      <td>1</td>\n",
       "      <td>...</td>\n",
       "      <td>1</td>\n",
       "      <td>1</td>\n",
       "      <td>5</td>\n",
       "      <td>5</td>\n",
       "      <td>5</td>\n",
       "      <td>5</td>\n",
       "      <td>5</td>\n",
       "      <td>5</td>\n",
       "      <td>2</td>\n",
       "      <td>0</td>\n",
       "    </tr>\n",
       "  </tbody>\n",
       "</table>\n",
       "<p>5 rows × 31 columns</p>\n",
       "</div>"
      ],
      "text/plain": [
       "     school  sex   age  address  famsize  Pstatus  Medu  Fedu  Mjob  Fjob  \\\n",
       "162       0  1.0  15.0      1.0        0        1     4     3     4     2   \n",
       "175       0  0.0  17.0      1.0        0        0     4     3     3     3   \n",
       "106       0  0.0  16.0      1.0        1        0     3     4     2     2   \n",
       "317       0  0.0  19.0      1.0        0        1     3     3     2     2   \n",
       "292       1  1.0  18.0      1.0        1        1     4     4     0     1   \n",
       "\n",
       "     ...  internet  romantic  famrel  freetime  goout  Dalc  Walc  health  \\\n",
       "162  ...         1         0       3         4      3     2     3       3   \n",
       "175  ...         1         1       5         2      2     1     2       5   \n",
       "106  ...         1         1       5         3      2     1     1       1   \n",
       "317  ...         1         0       4         3      3     1     2       3   \n",
       "292  ...         1         1       5         5      5     5     5       5   \n",
       "\n",
       "     absences  is_test  \n",
       "162         4        0  \n",
       "175        14        0  \n",
       "106         0        0  \n",
       "317         4        0  \n",
       "292         2        0  \n",
       "\n",
       "[5 rows x 31 columns]"
      ]
     },
     "execution_count": 17,
     "metadata": {},
     "output_type": "execute_result"
    }
   ],
   "source": [
    "train_adv.sample(5)"
   ]
  },
  {
   "cell_type": "code",
   "execution_count": 18,
   "id": "64d06c02",
   "metadata": {},
   "outputs": [
    {
     "data": {
      "text/html": [
       "<div>\n",
       "<style scoped>\n",
       "    .dataframe tbody tr th:only-of-type {\n",
       "        vertical-align: middle;\n",
       "    }\n",
       "\n",
       "    .dataframe tbody tr th {\n",
       "        vertical-align: top;\n",
       "    }\n",
       "\n",
       "    .dataframe thead th {\n",
       "        text-align: right;\n",
       "    }\n",
       "</style>\n",
       "<table border=\"1\" class=\"dataframe\">\n",
       "  <thead>\n",
       "    <tr style=\"text-align: right;\">\n",
       "      <th></th>\n",
       "      <th>school</th>\n",
       "      <th>sex</th>\n",
       "      <th>age</th>\n",
       "      <th>address</th>\n",
       "      <th>famsize</th>\n",
       "      <th>Pstatus</th>\n",
       "      <th>Medu</th>\n",
       "      <th>Fedu</th>\n",
       "      <th>Mjob</th>\n",
       "      <th>Fjob</th>\n",
       "      <th>...</th>\n",
       "      <th>internet</th>\n",
       "      <th>romantic</th>\n",
       "      <th>famrel</th>\n",
       "      <th>freetime</th>\n",
       "      <th>goout</th>\n",
       "      <th>Dalc</th>\n",
       "      <th>Walc</th>\n",
       "      <th>health</th>\n",
       "      <th>absences</th>\n",
       "      <th>is_test</th>\n",
       "    </tr>\n",
       "  </thead>\n",
       "  <tbody>\n",
       "    <tr>\n",
       "      <th>40</th>\n",
       "      <td>0</td>\n",
       "      <td>0.0</td>\n",
       "      <td>15</td>\n",
       "      <td>0.0</td>\n",
       "      <td>0</td>\n",
       "      <td>1</td>\n",
       "      <td>3</td>\n",
       "      <td>3</td>\n",
       "      <td>3</td>\n",
       "      <td>3</td>\n",
       "      <td>...</td>\n",
       "      <td>1</td>\n",
       "      <td>1</td>\n",
       "      <td>4</td>\n",
       "      <td>2</td>\n",
       "      <td>1</td>\n",
       "      <td>2</td>\n",
       "      <td>3</td>\n",
       "      <td>3</td>\n",
       "      <td>2</td>\n",
       "      <td>1</td>\n",
       "    </tr>\n",
       "    <tr>\n",
       "      <th>145</th>\n",
       "      <td>1</td>\n",
       "      <td>1.0</td>\n",
       "      <td>15</td>\n",
       "      <td>0.0</td>\n",
       "      <td>1</td>\n",
       "      <td>1</td>\n",
       "      <td>4</td>\n",
       "      <td>1</td>\n",
       "      <td>1</td>\n",
       "      <td>3</td>\n",
       "      <td>...</td>\n",
       "      <td>1</td>\n",
       "      <td>0</td>\n",
       "      <td>5</td>\n",
       "      <td>3</td>\n",
       "      <td>4</td>\n",
       "      <td>1</td>\n",
       "      <td>2</td>\n",
       "      <td>2</td>\n",
       "      <td>7</td>\n",
       "      <td>1</td>\n",
       "    </tr>\n",
       "    <tr>\n",
       "      <th>35</th>\n",
       "      <td>0</td>\n",
       "      <td>0.0</td>\n",
       "      <td>17</td>\n",
       "      <td>1.0</td>\n",
       "      <td>1</td>\n",
       "      <td>1</td>\n",
       "      <td>2</td>\n",
       "      <td>4</td>\n",
       "      <td>3</td>\n",
       "      <td>3</td>\n",
       "      <td>...</td>\n",
       "      <td>1</td>\n",
       "      <td>1</td>\n",
       "      <td>4</td>\n",
       "      <td>3</td>\n",
       "      <td>2</td>\n",
       "      <td>1</td>\n",
       "      <td>1</td>\n",
       "      <td>5</td>\n",
       "      <td>8</td>\n",
       "      <td>1</td>\n",
       "    </tr>\n",
       "    <tr>\n",
       "      <th>123</th>\n",
       "      <td>0</td>\n",
       "      <td>0.0</td>\n",
       "      <td>16</td>\n",
       "      <td>1.0</td>\n",
       "      <td>0</td>\n",
       "      <td>0</td>\n",
       "      <td>3</td>\n",
       "      <td>4</td>\n",
       "      <td>3</td>\n",
       "      <td>2</td>\n",
       "      <td>...</td>\n",
       "      <td>1</td>\n",
       "      <td>0</td>\n",
       "      <td>3</td>\n",
       "      <td>2</td>\n",
       "      <td>1</td>\n",
       "      <td>1</td>\n",
       "      <td>4</td>\n",
       "      <td>5</td>\n",
       "      <td>12</td>\n",
       "      <td>1</td>\n",
       "    </tr>\n",
       "    <tr>\n",
       "      <th>21</th>\n",
       "      <td>0</td>\n",
       "      <td>0.0</td>\n",
       "      <td>16</td>\n",
       "      <td>1.0</td>\n",
       "      <td>0</td>\n",
       "      <td>1</td>\n",
       "      <td>4</td>\n",
       "      <td>3</td>\n",
       "      <td>4</td>\n",
       "      <td>1</td>\n",
       "      <td>...</td>\n",
       "      <td>1</td>\n",
       "      <td>0</td>\n",
       "      <td>3</td>\n",
       "      <td>4</td>\n",
       "      <td>4</td>\n",
       "      <td>2</td>\n",
       "      <td>4</td>\n",
       "      <td>4</td>\n",
       "      <td>0</td>\n",
       "      <td>1</td>\n",
       "    </tr>\n",
       "  </tbody>\n",
       "</table>\n",
       "<p>5 rows × 31 columns</p>\n",
       "</div>"
      ],
      "text/plain": [
       "     school  sex  age  address  famsize  Pstatus  Medu  Fedu  Mjob  Fjob  ...  \\\n",
       "40        0  0.0   15      0.0        0        1     3     3     3     3  ...   \n",
       "145       1  1.0   15      0.0        1        1     4     1     1     3  ...   \n",
       "35        0  0.0   17      1.0        1        1     2     4     3     3  ...   \n",
       "123       0  0.0   16      1.0        0        0     3     4     3     2  ...   \n",
       "21        0  0.0   16      1.0        0        1     4     3     4     1  ...   \n",
       "\n",
       "     internet  romantic  famrel  freetime  goout  Dalc  Walc  health  \\\n",
       "40          1         1       4         2      1     2     3       3   \n",
       "145         1         0       5         3      4     1     2       2   \n",
       "35          1         1       4         3      2     1     1       5   \n",
       "123         1         0       3         2      1     1     4       5   \n",
       "21          1         0       3         4      4     2     4       4   \n",
       "\n",
       "     absences  is_test  \n",
       "40          2        1  \n",
       "145         7        1  \n",
       "35          8        1  \n",
       "123        12        1  \n",
       "21          0        1  \n",
       "\n",
       "[5 rows x 31 columns]"
      ]
     },
     "execution_count": 18,
     "metadata": {},
     "output_type": "execute_result"
    }
   ],
   "source": [
    "test_adv.sample(5)"
   ]
  },
  {
   "cell_type": "code",
   "execution_count": 19,
   "id": "95b49819",
   "metadata": {},
   "outputs": [],
   "source": [
    "data_adv = pd.concat([train_adv, test_adv])\n",
    "X_train = data_adv.drop(\"is_test\", axis=1)\n",
    "y_train = data_adv[\"is_test\"]"
   ]
  },
  {
   "cell_type": "code",
   "execution_count": 20,
   "id": "8c0bd8c6",
   "metadata": {},
   "outputs": [
    {
     "name": "stdout",
     "output_type": "stream",
     "text": [
      "Best hyperparameters:  {'class_weight': 'balanced', 'degree': 9, 'kernel': 'poly'}\n",
      "Train accuracy:        0.83513\n",
      "Test accuracy:         0.83513\n"
     ]
    }
   ],
   "source": [
    "grid = {\n",
    "    \"class_weight\": [\"balanced\"],\n",
    "    \"kernel\": [\"linear\", \"poly\", \"rbf\"],\n",
    "    \"degree\": np.arange(1, 10)\n",
    "}\n",
    "# Нет у меня тестовых данных для этой задачи, поэтому вместо теста\n",
    "# ещё раз прогоняю модель на трейне (Это костыль, признаю)\n",
    "svm_adv = fit_predict_CV(X_train, X_train, y_train, y_train, SVC, grid)"
   ]
  },
  {
   "cell_type": "code",
   "execution_count": 21,
   "id": "b9120e3d",
   "metadata": {},
   "outputs": [],
   "source": [
    "mask = svm_adv.predict(train_adv.drop(\"is_test\", axis=1))"
   ]
  },
  {
   "cell_type": "code",
   "execution_count": 22,
   "id": "12ed6004",
   "metadata": {},
   "outputs": [],
   "source": [
    "bool_mask = np.array(mask, dtype=np.bool8)\n",
    "bool_mask = np.array([not el for el in bool_mask])\n",
    "bool_mask_array = np.array([bool_mask]*data.shape[1]).T\n",
    "val_data = data.mask(bool_mask_array).dropna()"
   ]
  },
  {
   "cell_type": "code",
   "execution_count": 23,
   "id": "f0332977",
   "metadata": {},
   "outputs": [
    {
     "data": {
      "text/html": [
       "<div>\n",
       "<style scoped>\n",
       "    .dataframe tbody tr th:only-of-type {\n",
       "        vertical-align: middle;\n",
       "    }\n",
       "\n",
       "    .dataframe tbody tr th {\n",
       "        vertical-align: top;\n",
       "    }\n",
       "\n",
       "    .dataframe thead th {\n",
       "        text-align: right;\n",
       "    }\n",
       "</style>\n",
       "<table border=\"1\" class=\"dataframe\">\n",
       "  <thead>\n",
       "    <tr style=\"text-align: right;\">\n",
       "      <th></th>\n",
       "      <th>school</th>\n",
       "      <th>sex</th>\n",
       "      <th>age</th>\n",
       "      <th>address</th>\n",
       "      <th>famsize</th>\n",
       "      <th>Pstatus</th>\n",
       "      <th>Medu</th>\n",
       "      <th>Fedu</th>\n",
       "      <th>Mjob</th>\n",
       "      <th>Fjob</th>\n",
       "      <th>...</th>\n",
       "      <th>internet</th>\n",
       "      <th>romantic</th>\n",
       "      <th>famrel</th>\n",
       "      <th>freetime</th>\n",
       "      <th>goout</th>\n",
       "      <th>Dalc</th>\n",
       "      <th>Walc</th>\n",
       "      <th>health</th>\n",
       "      <th>absences</th>\n",
       "      <th>G3</th>\n",
       "    </tr>\n",
       "  </thead>\n",
       "  <tbody>\n",
       "    <tr>\n",
       "      <th>180</th>\n",
       "      <td>0.0</td>\n",
       "      <td>0.0</td>\n",
       "      <td>16.0</td>\n",
       "      <td>1.0</td>\n",
       "      <td>0.0</td>\n",
       "      <td>0.0</td>\n",
       "      <td>2.0</td>\n",
       "      <td>2.0</td>\n",
       "      <td>2.0</td>\n",
       "      <td>2.0</td>\n",
       "      <td>...</td>\n",
       "      <td>1.0</td>\n",
       "      <td>0.0</td>\n",
       "      <td>3.0</td>\n",
       "      <td>3.0</td>\n",
       "      <td>4.0</td>\n",
       "      <td>1.0</td>\n",
       "      <td>1.0</td>\n",
       "      <td>4.0</td>\n",
       "      <td>0.0</td>\n",
       "      <td>13.0</td>\n",
       "    </tr>\n",
       "    <tr>\n",
       "      <th>379</th>\n",
       "      <td>0.0</td>\n",
       "      <td>0.0</td>\n",
       "      <td>16.0</td>\n",
       "      <td>1.0</td>\n",
       "      <td>0.0</td>\n",
       "      <td>1.0</td>\n",
       "      <td>2.0</td>\n",
       "      <td>1.0</td>\n",
       "      <td>2.0</td>\n",
       "      <td>2.0</td>\n",
       "      <td>...</td>\n",
       "      <td>1.0</td>\n",
       "      <td>1.0</td>\n",
       "      <td>4.0</td>\n",
       "      <td>5.0</td>\n",
       "      <td>2.0</td>\n",
       "      <td>1.0</td>\n",
       "      <td>1.0</td>\n",
       "      <td>5.0</td>\n",
       "      <td>4.0</td>\n",
       "      <td>10.0</td>\n",
       "    </tr>\n",
       "    <tr>\n",
       "      <th>452</th>\n",
       "      <td>1.0</td>\n",
       "      <td>0.0</td>\n",
       "      <td>15.0</td>\n",
       "      <td>0.0</td>\n",
       "      <td>1.0</td>\n",
       "      <td>1.0</td>\n",
       "      <td>1.0</td>\n",
       "      <td>1.0</td>\n",
       "      <td>0.0</td>\n",
       "      <td>3.0</td>\n",
       "      <td>...</td>\n",
       "      <td>1.0</td>\n",
       "      <td>0.0</td>\n",
       "      <td>5.0</td>\n",
       "      <td>4.0</td>\n",
       "      <td>3.0</td>\n",
       "      <td>1.0</td>\n",
       "      <td>2.0</td>\n",
       "      <td>4.0</td>\n",
       "      <td>0.0</td>\n",
       "      <td>10.0</td>\n",
       "    </tr>\n",
       "    <tr>\n",
       "      <th>304</th>\n",
       "      <td>0.0</td>\n",
       "      <td>0.0</td>\n",
       "      <td>17.0</td>\n",
       "      <td>1.0</td>\n",
       "      <td>0.0</td>\n",
       "      <td>1.0</td>\n",
       "      <td>2.0</td>\n",
       "      <td>2.0</td>\n",
       "      <td>3.0</td>\n",
       "      <td>3.0</td>\n",
       "      <td>...</td>\n",
       "      <td>1.0</td>\n",
       "      <td>0.0</td>\n",
       "      <td>4.0</td>\n",
       "      <td>3.0</td>\n",
       "      <td>4.0</td>\n",
       "      <td>1.0</td>\n",
       "      <td>3.0</td>\n",
       "      <td>4.0</td>\n",
       "      <td>0.0</td>\n",
       "      <td>17.0</td>\n",
       "    </tr>\n",
       "    <tr>\n",
       "      <th>240</th>\n",
       "      <td>0.0</td>\n",
       "      <td>0.0</td>\n",
       "      <td>18.0</td>\n",
       "      <td>0.0</td>\n",
       "      <td>0.0</td>\n",
       "      <td>1.0</td>\n",
       "      <td>3.0</td>\n",
       "      <td>1.0</td>\n",
       "      <td>2.0</td>\n",
       "      <td>2.0</td>\n",
       "      <td>...</td>\n",
       "      <td>1.0</td>\n",
       "      <td>1.0</td>\n",
       "      <td>5.0</td>\n",
       "      <td>3.0</td>\n",
       "      <td>3.0</td>\n",
       "      <td>1.0</td>\n",
       "      <td>1.0</td>\n",
       "      <td>4.0</td>\n",
       "      <td>4.0</td>\n",
       "      <td>8.0</td>\n",
       "    </tr>\n",
       "  </tbody>\n",
       "</table>\n",
       "<p>5 rows × 31 columns</p>\n",
       "</div>"
      ],
      "text/plain": [
       "     school  sex   age  address  famsize  Pstatus  Medu  Fedu  Mjob  Fjob  \\\n",
       "180     0.0  0.0  16.0      1.0      0.0      0.0   2.0   2.0   2.0   2.0   \n",
       "379     0.0  0.0  16.0      1.0      0.0      1.0   2.0   1.0   2.0   2.0   \n",
       "452     1.0  0.0  15.0      0.0      1.0      1.0   1.0   1.0   0.0   3.0   \n",
       "304     0.0  0.0  17.0      1.0      0.0      1.0   2.0   2.0   3.0   3.0   \n",
       "240     0.0  0.0  18.0      0.0      0.0      1.0   3.0   1.0   2.0   2.0   \n",
       "\n",
       "     ...  internet  romantic  famrel  freetime  goout  Dalc  Walc  health  \\\n",
       "180  ...       1.0       0.0     3.0       3.0    4.0   1.0   1.0     4.0   \n",
       "379  ...       1.0       1.0     4.0       5.0    2.0   1.0   1.0     5.0   \n",
       "452  ...       1.0       0.0     5.0       4.0    3.0   1.0   2.0     4.0   \n",
       "304  ...       1.0       0.0     4.0       3.0    4.0   1.0   3.0     4.0   \n",
       "240  ...       1.0       1.0     5.0       3.0    3.0   1.0   1.0     4.0   \n",
       "\n",
       "     absences    G3  \n",
       "180       0.0  13.0  \n",
       "379       4.0  10.0  \n",
       "452       0.0  10.0  \n",
       "304       0.0  17.0  \n",
       "240       4.0   8.0  \n",
       "\n",
       "[5 rows x 31 columns]"
      ]
     },
     "execution_count": 23,
     "metadata": {},
     "output_type": "execute_result"
    }
   ],
   "source": [
    "val_data.sample(5)"
   ]
  },
  {
   "cell_type": "code",
   "execution_count": 24,
   "id": "378abb2a",
   "metadata": {},
   "outputs": [
    {
     "name": "stdout",
     "output_type": "stream",
     "text": [
      "Val accuracy:  0.82192\n"
     ]
    }
   ],
   "source": [
    "score = accuracy_score(val_data[\"G3\"], svm.predict(min_max_scaler.transform(val_data.drop(\"G3\", axis=1))))\n",
    "print(\"Val accuracy: \", round(score, 5))"
   ]
  },
  {
   "cell_type": "markdown",
   "id": "1ba3b650",
   "metadata": {},
   "source": [
    "Прикольный результат. Наверное стоит слегка переобучить модель именно на этих данных, чтоб получить больший score. Делать я этого, конечто же, не буду."
   ]
  }
 ],
 "metadata": {
  "kernelspec": {
   "display_name": "Python 3.8.3",
   "language": "python",
   "name": "python3"
  },
  "language_info": {
   "codemirror_mode": {
    "name": "ipython",
    "version": 3
   },
   "file_extension": ".py",
   "mimetype": "text/x-python",
   "name": "python",
   "nbconvert_exporter": "python",
   "pygments_lexer": "ipython3",
   "version": "3.8.3"
  },
  "vscode": {
   "interpreter": {
    "hash": "cd8d94fa378e1ac14e152df35ffb5700d05b0f1351c495e4805d895bc9fed1bb"
   }
  }
 },
 "nbformat": 4,
 "nbformat_minor": 5
}
