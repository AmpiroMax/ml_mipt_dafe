{
 "cells": [
  {
   "cell_type": "code",
   "execution_count": 1,
   "id": "155c463e",
   "metadata": {},
   "outputs": [],
   "source": [
    "import pandas as pd\n",
    "import numpy as np\n",
    "import matplotlib.pyplot as plt\n",
    "\n",
    "from sklearn.metrics import f1_score\n",
    "from sklearn.metrics import accuracy_score\n",
    "from sklearn.model_selection import train_test_split\n",
    "from sklearn.linear_model import LogisticRegression"
   ]
  },
  {
   "cell_type": "markdown",
   "id": "15bb63f3-ac5e-4337-92aa-9120e442375c",
   "metadata": {
    "id": "AGf_xvZiT0Ww",
    "jp-MarkdownHeadingCollapsed": true,
    "tags": []
   },
   "source": [
    "# Домашнее задание № 1\n",
    "\n",
    "Вам необходимо выбор стратегии валидации и обработку данных от ошибок заполнения."
   ]
  },
  {
   "cell_type": "markdown",
   "id": "1c34dd70-4252-4c1d-86ac-4fa063f41c0c",
   "metadata": {},
   "source": [
    "## Фильтрация по диапазону значений "
   ]
  },
  {
   "cell_type": "code",
   "execution_count": 17,
   "id": "40103249",
   "metadata": {},
   "outputs": [],
   "source": [
    "data = pd.read_csv('train_features_with_answers.csv')"
   ]
  },
  {
   "cell_type": "code",
   "execution_count": 18,
   "id": "fc46740c",
   "metadata": {},
   "outputs": [
    {
     "name": "stdout",
     "output_type": "stream",
     "text": [
      "school: ['MS' 'GP']\n",
      "sex: ['M' 'F' 'D' 'C' 'B' 'A']\n",
      "age: [ nan  15.  17.  20.  18.  16.  19. 161. 181. 151. 116.  21.  22.  -1.\n",
      "   1.   5.   8.]\n",
      "address: ['U' 'R' nan]\n",
      "famsize: ['LE3' 'GT3']\n",
      "Pstatus: ['T' 'A']\n",
      "Medu: [1 3 4 2 0]\n",
      "Fedu: [3 4 1 2 0]\n",
      "Mjob: ['at_home' 'teacher' 'other' 'services' 'health']\n",
      "Fjob: ['services' 'other' 'at_home' 'teacher' 'health']\n",
      "reason: ['course' 'home' 'reputation' 'other']\n",
      "guardian: ['mother' 'father' 'other']\n",
      "traveltime: [1 3 2 4]\n",
      "studytime: [1 2 3 4]\n",
      "failures: [0 1 2 3]\n",
      "schoolsup: ['no' 'yes']\n",
      "famsup: ['no' 'yes']\n",
      "paid: ['no' 'yes']\n",
      "activities: ['no' 'yes']\n",
      "nursery: ['yes' 'no']\n",
      "higher: ['no' 'yes']\n",
      "internet: ['yes' 'no']\n",
      "romantic: ['yes' 'no']\n",
      "famrel: [4 3 5 1 2]\n",
      "freetime: [3 5 2 1 4]\n",
      "goout: [3 4 1 5 2]\n",
      "Dalc: [2 3 1 5 4]\n",
      "Walc: [3 5 1 2 4]\n",
      "health: [3 5 2 1 4]\n",
      "absences: [ 0 16  4  8  2  1  9  6  5 11  3 10 12 14 18 15 24 22 32 21 13  7]\n",
      "G3: [ 9 12 13 11 14 16 10 17  8 15  0  6  7 19 18  1  5]\n"
     ]
    }
   ],
   "source": [
    "unique_vals = dict()\n",
    "for col in data:\n",
    "    unique_vals[col] = data[col].unique() \n",
    "    print(f\"{col}:\", unique_vals[col])"
   ]
  },
  {
   "cell_type": "code",
   "execution_count": 19,
   "id": "d5449e92",
   "metadata": {},
   "outputs": [],
   "source": [
    "data.loc[(data[\"age\"] < 15) | ( data[\"age\"] > 22), \"age\"] = np.nan\n",
    "data.loc[(data[\"sex\"] != \"M\") & (data[\"sex\"] != \"F\"), \"sex\"] = np.nan"
   ]
  },
  {
   "cell_type": "markdown",
   "id": "a31c8aea-226c-4378-a78b-e68842921ead",
   "metadata": {},
   "source": [
    "## Адаптивное заполнения пропусков "
   ]
  },
  {
   "cell_type": "markdown",
   "id": "3f6af889",
   "metadata": {},
   "source": [
    "### Разбиение данных"
   ]
  },
  {
   "cell_type": "code",
   "execution_count": 20,
   "id": "20e6df1e",
   "metadata": {},
   "outputs": [],
   "source": [
    "data.loc[data[\"sex\"] == 'F', \"sex\"] = 0\n",
    "data.loc[data[\"sex\"] == 'M', \"sex\"] = 1\n",
    "\n",
    "data.loc[data[\"address\"] == 'U', \"address\"] = 0\n",
    "data.loc[data[\"address\"] == 'R', \"address\"] = 1\n",
    "\n",
    "data[\"sex\"] = pd.to_numeric(data[\"sex\"])\n",
    "data[\"address\"] = pd.to_numeric(data[\"address\"])"
   ]
  },
  {
   "cell_type": "code",
   "execution_count": 21,
   "id": "d118d425",
   "metadata": {},
   "outputs": [],
   "source": [
    "cat_columns = []\n",
    "\n",
    "for name in data.columns:\n",
    "    if name not in data._get_numeric_data().columns:\n",
    "        cat_columns += [name]\n",
    "data = pd.get_dummies(data, columns=cat_columns)"
   ]
  },
  {
   "cell_type": "code",
   "execution_count": 22,
   "id": "c48d9077-392e-48ef-9a3f-3347ca38da4b",
   "metadata": {},
   "outputs": [],
   "source": [
    "data_without_na = data.dropna()\n",
    "X = data_without_na.drop([\"sex\", \"age\", \"address\", \"G3\"], axis=1)\n",
    "\n",
    "y = dict()\n",
    "y[\"sex\"] = data_without_na[\"sex\"]\n",
    "y[\"age\"]  = data_without_na[\"age\"]\n",
    "y[\"address\"]  = data_without_na[\"address\"]\n",
    "\n",
    "X_train_d = dict()\n",
    "y_train_d = dict()\n",
    "\n",
    "X_test_d = dict()\n",
    "y_test_d = dict()"
   ]
  },
  {
   "cell_type": "code",
   "execution_count": 23,
   "id": "df4a104c",
   "metadata": {},
   "outputs": [],
   "source": [
    "for col in [\"sex\", \"age\", \"address\"]:\n",
    "    X_train, X_test, y_train, y_test = train_test_split(X, y[col], test_size=0.33, random_state=42)\n",
    "    X_train_d[col] = X_train\n",
    "    X_test_d[col] = X_test\n",
    "    y_train_d[col] = y_train\n",
    "    y_test_d[col] = y_test"
   ]
  },
  {
   "cell_type": "code",
   "execution_count": 24,
   "id": "d83427e2",
   "metadata": {},
   "outputs": [],
   "source": [
    "data_prep = dict()\n",
    "data_prep[\"train\"] = [X_train_d, y_train_d]\n",
    "data_prep[\"test\"] =[X_test_d, y_test_d]"
   ]
  },
  {
   "cell_type": "code",
   "execution_count": 25,
   "id": "78703bde",
   "metadata": {},
   "outputs": [
    {
     "name": "stdout",
     "output_type": "stream",
     "text": [
      "SEX 0.679\n",
      "AGE 0.269\n",
      "ADDRESS 0.709\n"
     ]
    }
   ],
   "source": [
    "classifiers = dict()\n",
    "\n",
    "for stage in [\"train\", \"test\"]:\n",
    "    if stage == \"train\":\n",
    "        for col in [\"sex\", \"age\", \"address\"]:\n",
    "            cls = LogisticRegression(max_iter = 1000)\n",
    "            cls.fit(data_prep[stage][0][col], data_prep[stage][1][col])\n",
    "            classifiers[col] = cls\n",
    "    else:\n",
    "        for col in [\"sex\", \"age\", \"address\"]:\n",
    "            cls = classifiers[col]\n",
    "            prediction = cls.predict(data_prep[stage][0][col])\n",
    "            score = accuracy_score(data_prep[stage][1][col], prediction)\n",
    "            print(col.upper(), round(score, 3))"
   ]
  },
  {
   "cell_type": "markdown",
   "id": "3d1c2acf",
   "metadata": {},
   "source": [
    "### Заполнение пропусков"
   ]
  },
  {
   "cell_type": "code",
   "execution_count": 26,
   "id": "f1241efe",
   "metadata": {},
   "outputs": [],
   "source": [
    "data_nans = data[data.isna().any(axis=1)]\n",
    "X_nans = data_nans.drop([\"sex\", \"age\", \"address\", \"G3\"], axis=1)\n",
    "\n",
    "X_nans_sex = X_nans[data_nans[\"sex\"].isna()]\n",
    "X_nans_age = X_nans[data_nans[\"age\"].isna()]\n",
    "X_nans_add = X_nans[data_nans[\"address\"].isna()]\n",
    "\n",
    "\n",
    "predictions = dict()\n",
    "predictions[\"sex\"] = classifiers[\"sex\"].predict(X_nans_sex)\n",
    "predictions[\"age\"] = classifiers[\"age\"].predict(X_nans_age)\n",
    "predictions[\"address\"] = classifiers[\"address\"].predict(X_nans_add)"
   ]
  },
  {
   "cell_type": "code",
   "execution_count": 27,
   "id": "d48f5e94",
   "metadata": {},
   "outputs": [],
   "source": [
    "for col in [\"sex\", \"age\", \"address\"]:\n",
    "    for i, (index, row) in enumerate(data[data[col].isna()].iterrows()):\n",
    "        data.loc[index, col] = predictions[col][i]\n",
    "    "
   ]
  },
  {
   "cell_type": "code",
   "execution_count": 28,
   "id": "2e0b9bcc",
   "metadata": {},
   "outputs": [
    {
     "name": "stdout",
     "output_type": "stream",
     "text": [
      "sex: [1. 0.]\n",
      "age: [18. 15. 17. 20. 16. 19. 21. 22.]\n",
      "address: [0. 1.]\n"
     ]
    }
   ],
   "source": [
    "unique_vals = dict()\n",
    "for col in [\"sex\", \"age\", \"address\"]:\n",
    "    unique_vals[col] = data[col].unique() \n",
    "    print(f\"{col}:\", unique_vals[col])"
   ]
  },
  {
   "cell_type": "markdown",
   "id": "24c8c249",
   "metadata": {},
   "source": [
    "Ez, получилось прикольным образом заполнить пропуски в данных"
   ]
  },
  {
   "cell_type": "markdown",
   "id": "621800ae-7aae-4802-b714-b727f39d5c11",
   "metadata": {
    "_cell_guid": "9d8e5350-8caa-ab7d-834c-bbaf3e30c2b1",
    "id": "B1ejqsVNTtWC"
   },
   "source": [
    "## Стратегия валидации\n",
    "\n",
    "Итак, у вас есть данные для обучения и данные, на которых необходимо сделать предсказание. Для оценки точности необходимо проводить валидацию (так как мало данных, можно проводить кросс валидацию).\n",
    "Валидацию проще всего реализовать методами sklearn, например:\n",
    "- KFold\n",
    "- ShuffleSplit\n",
    "- StratifiedKFold\n",
    "- StratifiedShuffleSplit\n",
    "- GroupKFold\n",
    "- GroupShuffleSplit"
   ]
  },
  {
   "cell_type": "markdown",
   "id": "398dd849",
   "metadata": {},
   "source": [
    "Так как классы не сбалансированны, буду испольщовать `Stratified k-fold`"
   ]
  }
 ],
 "metadata": {
  "kernelspec": {
   "display_name": "Python 3.8.3",
   "language": "python",
   "name": "python3"
  },
  "language_info": {
   "codemirror_mode": {
    "name": "ipython",
    "version": 3
   },
   "file_extension": ".py",
   "mimetype": "text/x-python",
   "name": "python",
   "nbconvert_exporter": "python",
   "pygments_lexer": "ipython3",
   "version": "3.8.3"
  },
  "vscode": {
   "interpreter": {
    "hash": "cd8d94fa378e1ac14e152df35ffb5700d05b0f1351c495e4805d895bc9fed1bb"
   }
  }
 },
 "nbformat": 4,
 "nbformat_minor": 5
}
