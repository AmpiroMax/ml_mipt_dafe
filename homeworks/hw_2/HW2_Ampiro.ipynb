{
 "cells": [
  {
   "cell_type": "markdown",
   "metadata": {
    "id": "Qjl6x6og3uXH"
   },
   "source": [
    "# HW 2 - Разложение матриц градиентным методом"
   ]
  },
  {
   "cell_type": "markdown",
   "metadata": {
    "id": "Sv79QFb_-oNZ"
   },
   "source": [
    "Цель задания: В ходе реализации [разложения Таккера](https://proceedings.neurips.cc/paper/2018/file/45a766fa266ea2ebeb6680fa139d2a3d-Paper.pdf) градиентным методом освоить pyTorch и реализовать подходы оптимизации параметров модели (в отсутствии готовых решений)."
   ]
  },
  {
   "cell_type": "markdown",
   "metadata": {
    "id": "1HUSrylpBwYn"
   },
   "source": [
    "[Более-менее внятное описание алгоритма канонического разложения](https://www.alexejgossmann.com/tensor_decomposition_tucker/)"
   ]
  },
  {
   "cell_type": "code",
   "execution_count": 1,
   "metadata": {},
   "outputs": [],
   "source": [
    "# Если нет библиотеки tensorly, раскоментируй одну их этих строк\n",
    "# !pip install -U tensorly\n",
    "# !conda install -c tensorly tensorly"
   ]
  },
  {
   "cell_type": "code",
   "execution_count": 2,
   "metadata": {
    "colab": {
     "base_uri": "https://localhost:8080/"
    },
    "id": "P1PuoBtG7iw7",
    "outputId": "2cf68d00-5d67-4036-ef4b-df87be14d253"
   },
   "outputs": [],
   "source": [
    "import torch\n",
    "import numpy as np\n",
    "import matplotlib.pyplot as plt\n",
    "from tqdm.notebook import tqdm\n",
    "\n",
    "import time\n",
    "\n",
    "from numpy.lib.stride_tricks import as_strided\n",
    "from tensorly.decomposition import tucker\n",
    "\n",
    "# from sktensor.core import ttm\n",
    "# from sktensor.tucker import hooi\n",
    "\n",
    "# import math\n",
    "from torch.optim.optimizer import Optimizer"
   ]
  },
  {
   "cell_type": "markdown",
   "metadata": {},
   "source": [
    "## 1. Ф-ции решающие задачу"
   ]
  },
  {
   "cell_type": "code",
   "execution_count": 3,
   "metadata": {},
   "outputs": [],
   "source": [
    "def reorder(indices, mode):\n",
    "    indices = list(indices)\n",
    "    element = indices.pop(mode)\n",
    "    return ([element] + indices[::-1])"
   ]
  },
  {
   "cell_type": "code",
   "execution_count": 4,
   "metadata": {},
   "outputs": [],
   "source": [
    "def my_unfold(tensor, mode=0):\n",
    "    return tensor.permute(reorder(range(tensor.ndim), mode)).reshape((tensor.shape[mode], -1))"
   ]
  },
  {
   "cell_type": "code",
   "execution_count": 5,
   "metadata": {},
   "outputs": [],
   "source": [
    "def my_fold(unfolded, mode, shape):\n",
    "    unfolded_indices = reorder(range(len(shape)), mode)\n",
    "    original_shape = [shape[i] for i in unfolded_indices]\n",
    "    unfolded = unfolded.reshape(original_shape)\n",
    "\n",
    "    folded_indices = list(range(len(shape)-1, 0, -1))\n",
    "    folded_indices.insert(mode, 0)\n",
    "    return unfolded.permute(folded_indices)"
   ]
  },
  {
   "cell_type": "code",
   "execution_count": 6,
   "metadata": {},
   "outputs": [],
   "source": [
    "def repair_torch_tensor(core: torch.Tensor, U: torch.Tensor)-> torch.Tensor:\n",
    "    data = core\n",
    "    for i, u in enumerate(U):\n",
    "        curr_shape = data.shape\n",
    "        un_folded_data = u @ my_unfold(data, i)  \n",
    "        shape = [curr_shape[k] if k != i else u.shape[0] for k in range(len(curr_shape))]\n",
    "        data = my_fold(un_folded_data, i, shape)\n",
    "\n",
    "    return data"
   ]
  },
  {
   "cell_type": "code",
   "execution_count": 7,
   "metadata": {
    "id": "5SzHzteOROQQ"
   },
   "outputs": [],
   "source": [
    "def get_tensor(tensor_size=(100,200,150), r=(10, 20, 30), device=\"cpu\"):\n",
    "    G = torch.rand(r, device=device) * 9\n",
    "    U = [\n",
    "        torch.rand(size=(dim, r_dim), device=device)\n",
    "        for r_dim, dim in zip(r, tensor_size)\n",
    "    ]\n",
    "    \n",
    "    data = repair_torch_tensor(G, U)\n",
    "    return data, U, G"
   ]
  },
  {
   "cell_type": "code",
   "execution_count": 8,
   "metadata": {},
   "outputs": [],
   "source": [
    "def add_noise(tensor, device=\"cpu\"):\n",
    "    return tensor + 1e-2 * torch.normal(mean=torch.zeros_like(tensor)).to(device)"
   ]
  },
  {
   "cell_type": "code",
   "execution_count": 9,
   "metadata": {},
   "outputs": [],
   "source": [
    "def MSE(target, predict):\n",
    "    return torch.mean((target-predict)**2)"
   ]
  },
  {
   "cell_type": "code",
   "execution_count": 10,
   "metadata": {},
   "outputs": [],
   "source": [
    "class CustomSGD(Optimizer):\n",
    "    \n",
    "    def __init__(self, params, lr=1e-5):\n",
    "        defaults = dict(lr=lr)\n",
    "        super(CustomSGD, self).__init__(params, defaults)\n",
    "\n",
    "    def step(self):\n",
    "        for group in self.param_groups:\n",
    "            for p in group['params']:\n",
    "                if p.grad is None:\n",
    "                    continue\n",
    "                grad = p.grad\n",
    "                p.data -= group['lr'] * grad"
   ]
  },
  {
   "cell_type": "markdown",
   "metadata": {},
   "source": [
    "## 2. Пример работы"
   ]
  },
  {
   "cell_type": "markdown",
   "metadata": {
    "id": "EFuFlp2n78Tz"
   },
   "source": [
    "Сгенерируйте тензор и добавьте к нему случайный шум с размерностью *1e-2*"
   ]
  },
  {
   "cell_type": "code",
   "execution_count": 11,
   "metadata": {
    "id": "FnUbbsYSdrsw"
   },
   "outputs": [
    {
     "data": {
      "text/plain": [
       "(torch.Size([100, 200, 150]),\n",
       " [torch.Size([100, 10]), torch.Size([200, 20]), torch.Size([150, 30])],\n",
       " torch.Size([10, 20, 30]))"
      ]
     },
     "execution_count": 11,
     "metadata": {},
     "output_type": "execute_result"
    }
   ],
   "source": [
    "sample_data, U, G = get_tensor(r=(10, 20, 30))\n",
    "sample_data.shape, [u.shape for u in U], G.shape"
   ]
  },
  {
   "cell_type": "code",
   "execution_count": 12,
   "metadata": {},
   "outputs": [],
   "source": [
    "sample_data = add_noise(sample_data)"
   ]
  },
  {
   "cell_type": "markdown",
   "metadata": {
    "id": "kp75_Ad29RL5"
   },
   "source": [
    "Вопрос:\n",
    "Почему задание не имеет смысла для полностью случайного тензора и зачем добавлять шум? *не отвечать нельзя*"
   ]
  },
  {
   "cell_type": "markdown",
   "metadata": {
    "id": "5VLMaT5wyE11"
   },
   "source": [
    "Ответ: чтобы сделать решение более устойчивым"
   ]
  },
  {
   "cell_type": "markdown",
   "metadata": {
    "id": "MKqzxtaE-F16"
   },
   "source": [
    "## 3. Пример разложения библиотечным методом\n",
    "Не забудьте померить ошибку разложения по метрике MSE"
   ]
  },
  {
   "cell_type": "code",
   "execution_count": 13,
   "metadata": {
    "id": "HWkdb7Ip-mL3"
   },
   "outputs": [],
   "source": [
    "core, factors = tucker(sample_data.numpy(), (10, 20, 30))\n",
    "core = torch.tensor(core)\n",
    "factors = [torch.tensor(factor.copy()) for factor in factors]"
   ]
  },
  {
   "cell_type": "code",
   "execution_count": 14,
   "metadata": {},
   "outputs": [],
   "source": [
    "data_rep = repair_torch_tensor(core, factors)"
   ]
  },
  {
   "cell_type": "code",
   "execution_count": 15,
   "metadata": {
    "scrolled": true
   },
   "outputs": [
    {
     "data": {
      "text/plain": [
       "(tensor(3.6610), tensor(6.0396e+09))"
      ]
     },
     "execution_count": 15,
     "metadata": {},
     "output_type": "execute_result"
    }
   ],
   "source": [
    "MSE(data_rep, sample_data), MSE(core, G)"
   ]
  },
  {
   "cell_type": "markdown",
   "metadata": {},
   "source": [
    "## 4. Градиентный подсчет ядра"
   ]
  },
  {
   "cell_type": "code",
   "execution_count": 16,
   "metadata": {},
   "outputs": [],
   "source": [
    "TENSOR_SIZE = (300, 200, 100)\n",
    "RANKS = (10, 20, 30)\n",
    "DEVICE = \"cuda\" if torch.cuda.is_available() else \"cpu\"\n",
    "\n",
    "DATA_SIZE = 5\n",
    "NUM_EPOCHS = 1000"
   ]
  },
  {
   "cell_type": "code",
   "execution_count": 17,
   "metadata": {},
   "outputs": [
    {
     "name": "stdout",
     "output_type": "stream",
     "text": [
      "Your DEVICE is cuda\n"
     ]
    }
   ],
   "source": [
    "print(\"Your DEVICE is\", DEVICE)"
   ]
  },
  {
   "cell_type": "code",
   "execution_count": 18,
   "metadata": {},
   "outputs": [],
   "source": [
    "# Generating target tensor\n",
    "data = []\n",
    "for i in range(DATA_SIZE):\n",
    "    tensor, _, _ = get_tensor(TENSOR_SIZE, RANKS, device=DEVICE)\n",
    "    data += [add_noise(tensor, DEVICE)]"
   ]
  },
  {
   "cell_type": "code",
   "execution_count": 19,
   "metadata": {},
   "outputs": [
    {
     "data": {
      "application/vnd.jupyter.widget-view+json": {
       "model_id": "5ef06dbe423c401e985d84cd8e16314d",
       "version_major": 2,
       "version_minor": 0
      },
      "text/plain": [
       "  0%|          | 0/1000 [00:00<?, ?it/s]"
      ]
     },
     "metadata": {},
     "output_type": "display_data"
    },
    {
     "data": {
      "application/vnd.jupyter.widget-view+json": {
       "model_id": "f5913dc939d442b09ae010b34b273b23",
       "version_major": 2,
       "version_minor": 0
      },
      "text/plain": [
       "  0%|          | 0/1000 [00:00<?, ?it/s]"
      ]
     },
     "metadata": {},
     "output_type": "display_data"
    },
    {
     "data": {
      "application/vnd.jupyter.widget-view+json": {
       "model_id": "d6b5ec65d9b14200b4ed0ebc0ee1e72e",
       "version_major": 2,
       "version_minor": 0
      },
      "text/plain": [
       "  0%|          | 0/1000 [00:00<?, ?it/s]"
      ]
     },
     "metadata": {},
     "output_type": "display_data"
    },
    {
     "data": {
      "application/vnd.jupyter.widget-view+json": {
       "model_id": "1f93e1a611954caf9b3ba36da61251a0",
       "version_major": 2,
       "version_minor": 0
      },
      "text/plain": [
       "  0%|          | 0/1000 [00:00<?, ?it/s]"
      ]
     },
     "metadata": {},
     "output_type": "display_data"
    },
    {
     "data": {
      "application/vnd.jupyter.widget-view+json": {
       "model_id": "ff5d5170b9ca468c8d87c21a35bb6f0e",
       "version_major": 2,
       "version_minor": 0
      },
      "text/plain": [
       "  0%|          | 0/1000 [00:00<?, ?it/s]"
      ]
     },
     "metadata": {},
     "output_type": "display_data"
    }
   ],
   "source": [
    "loss_over_data = []\n",
    "start_time = time.time()\n",
    "for tensor in data:\n",
    "    loss_history = []\n",
    "    \n",
    "    # Generating initial approximation\n",
    "    kernel_approx = torch.rand(RANKS, requires_grad=True, device=DEVICE)\n",
    "    factors_approx = [\n",
    "        torch.rand(size=(dim, r_dim), requires_grad=True, device=DEVICE)\n",
    "        for r_dim, dim in zip(RANKS, TENSOR_SIZE)\n",
    "    ]\n",
    "    optim = CustomSGD(params=[kernel_approx] + factors_approx, lr=1e-05)\n",
    "    \n",
    "    for epoch in tqdm(range(NUM_EPOCHS)):\n",
    "        optim.zero_grad()\n",
    "\n",
    "        tensor_approx = repair_torch_tensor(kernel_approx, factors_approx)\n",
    "        loss = MSE(tensor, tensor_approx)\n",
    "        loss.backward()\n",
    "\n",
    "        loss_history += [loss]\n",
    "\n",
    "        optim.step()\n",
    "    \n",
    "    loss_over_data += [loss_history]\n",
    "end_time = time.time()\n",
    "grad_mean_time = (end_time-start_time) / DATA_SIZE"
   ]
  },
  {
   "cell_type": "code",
   "execution_count": 20,
   "metadata": {},
   "outputs": [
    {
     "data": {
      "text/plain": [
       "[<matplotlib.lines.Line2D at 0x20f82207af0>]"
      ]
     },
     "execution_count": 20,
     "metadata": {},
     "output_type": "execute_result"
    },
    {
     "data": {
      "image/png": "[encoded data removed]",
      "text/plain": [
       "<Figure size 640x480 with 1 Axes>"
      ]
     },
     "metadata": {},
     "output_type": "display_data"
    }
   ],
   "source": [
    "loss_values = [value.detach().to(\"cpu\") for value in loss_over_data[0]]\n",
    "plt.plot(loss_values)"
   ]
  },
  {
   "cell_type": "markdown",
   "metadata": {},
   "source": [
    "## 5. Библиотечное разложение"
   ]
  },
  {
   "cell_type": "code",
   "execution_count": 21,
   "metadata": {},
   "outputs": [
    {
     "data": {
      "application/vnd.jupyter.widget-view+json": {
       "model_id": "d317c5d1fa1a4c3fbe8cd3b4e58787fa",
       "version_major": 2,
       "version_minor": 0
      },
      "text/plain": [
       "  0%|          | 0/5 [00:00<?, ?it/s]"
      ]
     },
     "metadata": {},
     "output_type": "display_data"
    }
   ],
   "source": [
    "total_time = 0\n",
    "analitic_loss = []\n",
    "for tensor in tqdm(data):\n",
    "    tensor = tensor.to(\"cpu\")\n",
    "    start_time = time.time()\n",
    "    core, factors = tucker(tensor.numpy(), RANKS)\n",
    "    end_time = time.time()\n",
    "    total_time += end_time-start_time\n",
    "    \n",
    "    core = torch.tensor(core)\n",
    "    factors = [torch.tensor(factor.copy()) for factor in factors]\n",
    "    tensor_rep = repair_torch_tensor(core, factors)\n",
    "    \n",
    "    analitic_loss += [MSE(tensor_rep, tensor)]\n",
    "analitic_mean_time = total_time / DATA_SIZE"
   ]
  },
  {
   "cell_type": "code",
   "execution_count": 22,
   "metadata": {},
   "outputs": [],
   "source": [
    "analitic_mean_loss = sum(analitic_loss) / DATA_SIZE\n",
    "grad_mean_loss = torch.mean(torch.tensor([loss_over_data[i][-1] for i in range(DATA_SIZE)]))"
   ]
  },
  {
   "cell_type": "markdown",
   "metadata": {},
   "source": [
    "## 6. Сравнение"
   ]
  },
  {
   "cell_type": "code",
   "execution_count": 23,
   "metadata": {},
   "outputs": [
    {
     "name": "stdout",
     "output_type": "stream",
     "text": [
      "Средняя ошибка MSE по всем данным:\n",
      "- аналитическое решение   2.459\n",
      "- градиентная оптимизация 210.343\n"
     ]
    }
   ],
   "source": [
    "print(\"Средняя ошибка MSE по всем данным:\")\n",
    "print(f\"- аналитическое решение   {float(analitic_mean_loss):.4}\", )\n",
    "print(f\"- градиентная оптимизация {float(grad_mean_loss):.6}\", )"
   ]
  },
  {
   "cell_type": "code",
   "execution_count": 24,
   "metadata": {},
   "outputs": [
    {
     "name": "stdout",
     "output_type": "stream",
     "text": [
      "Среднее время работы (сек):\n",
      "- аналитическое решение   0.8098\n",
      "- градиентная оптимизация 5.0559\n"
     ]
    }
   ],
   "source": [
    "print(\"Среднее время работы (сек):\")\n",
    "print(f\"- аналитическое решение   {analitic_mean_time:.4}\", )\n",
    "print(f\"- градиентная оптимизация {grad_mean_time:.5}\", )"
   ]
  },
  {
   "cell_type": "code",
   "execution_count": null,
   "metadata": {},
   "outputs": [],
   "source": []
  }
 ],
 "metadata": {
  "colab": {
   "collapsed_sections": [],
   "provenance": [],
   "toc_visible": true
  },
  "kernelspec": {
   "display_name": "Python 3 (ipykernel)",
   "language": "python",
   "name": "python3"
  },
  "language_info": {
   "codemirror_mode": {
    "name": "ipython",
    "version": 3
   },
   "file_extension": ".py",
   "mimetype": "text/x-python",
   "name": "python",
   "nbconvert_exporter": "python",
   "pygments_lexer": "ipython3",
   "version": "3.8.3"
  },
  "vscode": {
   "interpreter": {
    "hash": "79dfe7cd678b7b62d440f4a55fdb2b0dcfc55f312682ecc37da0a1f56872f577"
   }
  }
 },
 "nbformat": 4,
 "nbformat_minor": 1
}
